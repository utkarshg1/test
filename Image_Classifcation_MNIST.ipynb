{
  "nbformat": 4,
  "nbformat_minor": 0,
  "metadata": {
    "colab": {
      "provenance": [],
      "gpuType": "T4",
      "authorship_tag": "ABX9TyOdCzjuRizz8jbiC7w6cVEX",
      "include_colab_link": true
    },
    "kernelspec": {
      "name": "python3",
      "display_name": "Python 3"
    },
    "language_info": {
      "name": "python"
    },
    "accelerator": "GPU"
  },
  "cells": [
    {
      "cell_type": "markdown",
      "metadata": {
        "id": "view-in-github",
        "colab_type": "text"
      },
      "source": [
        "<a href=\"https://colab.research.google.com/github/utkarshg1/test/blob/main/Image_Classifcation_MNIST.ipynb\" target=\"_parent\"><img src=\"https://colab.research.google.com/assets/colab-badge.svg\" alt=\"Open In Colab\"/></a>"
      ]
    },
    {
      "cell_type": "markdown",
      "source": [
        "# Handwritten Digit Classification using MNIST Dataset\n",
        "\n",
        "Runtime > Change runtime type > T4 GPU"
      ],
      "metadata": {
        "id": "zIL_4lYTGwWt"
      }
    },
    {
      "cell_type": "code",
      "execution_count": 1,
      "metadata": {
        "id": "GANq6uXFGvpZ"
      },
      "outputs": [],
      "source": [
        "from warnings import filterwarnings\n",
        "\n",
        "filterwarnings(\"ignore\")"
      ]
    },
    {
      "cell_type": "markdown",
      "source": [
        "# Step 1 - Load the dataset"
      ],
      "metadata": {
        "id": "z-J1djbXHJFV"
      }
    },
    {
      "cell_type": "code",
      "source": [
        "from keras.datasets import mnist\n",
        "\n",
        "(xtrain, ytrain), (xtest, ytest) = mnist.load_data()"
      ],
      "metadata": {
        "colab": {
          "base_uri": "https://localhost:8080/"
        },
        "id": "LQ3sb5JRHExB",
        "outputId": "4984e332-b282-44d1-f2a0-a06235333318"
      },
      "execution_count": 2,
      "outputs": [
        {
          "output_type": "stream",
          "name": "stdout",
          "text": [
            "Downloading data from https://storage.googleapis.com/tensorflow/tf-keras-datasets/mnist.npz\n",
            "\u001b[1m11490434/11490434\u001b[0m \u001b[32m━━━━━━━━━━━━━━━━━━━━\u001b[0m\u001b[37m\u001b[0m \u001b[1m1s\u001b[0m 0us/step\n"
          ]
        }
      ]
    },
    {
      "cell_type": "code",
      "source": [
        "xtrain.shape"
      ],
      "metadata": {
        "colab": {
          "base_uri": "https://localhost:8080/"
        },
        "id": "u3AGL8evHgjI",
        "outputId": "57834d11-38d8-4e78-ec0b-5ccf25fbb7da"
      },
      "execution_count": 4,
      "outputs": [
        {
          "output_type": "execute_result",
          "data": {
            "text/plain": [
              "(60000, 28, 28)"
            ]
          },
          "metadata": {},
          "execution_count": 4
        }
      ]
    },
    {
      "cell_type": "code",
      "source": [
        "ytrain[0:5]"
      ],
      "metadata": {
        "colab": {
          "base_uri": "https://localhost:8080/"
        },
        "id": "Mh0yMbcPHjDu",
        "outputId": "c583af63-0dfb-4c9c-91c6-73683c0f4295"
      },
      "execution_count": 5,
      "outputs": [
        {
          "output_type": "execute_result",
          "data": {
            "text/plain": [
              "array([5, 0, 4, 1, 9], dtype=uint8)"
            ]
          },
          "metadata": {},
          "execution_count": 5
        }
      ]
    },
    {
      "cell_type": "code",
      "source": [
        "xtest.shape"
      ],
      "metadata": {
        "colab": {
          "base_uri": "https://localhost:8080/"
        },
        "id": "6Eqi5HO1HprU",
        "outputId": "5f2ce4df-ca37-4e31-d11f-1b7302878a5f"
      },
      "execution_count": 6,
      "outputs": [
        {
          "output_type": "execute_result",
          "data": {
            "text/plain": [
              "(10000, 28, 28)"
            ]
          },
          "metadata": {},
          "execution_count": 6
        }
      ]
    },
    {
      "cell_type": "code",
      "source": [
        "ytest[0:5]"
      ],
      "metadata": {
        "colab": {
          "base_uri": "https://localhost:8080/"
        },
        "id": "1OYcOliMHsPx",
        "outputId": "a64c924e-3219-4779-9a92-0f2653316bbb"
      },
      "execution_count": 8,
      "outputs": [
        {
          "output_type": "execute_result",
          "data": {
            "text/plain": [
              "array([7, 2, 1, 0, 4], dtype=uint8)"
            ]
          },
          "metadata": {},
          "execution_count": 8
        }
      ]
    },
    {
      "cell_type": "markdown",
      "source": [
        "# Visualize the digits"
      ],
      "metadata": {
        "id": "ZA4zF2R7H1-A"
      }
    },
    {
      "cell_type": "code",
      "source": [
        "xtrain[0]"
      ],
      "metadata": {
        "colab": {
          "base_uri": "https://localhost:8080/",
          "height": 1000
        },
        "id": "B-sdZWvgHu2t",
        "outputId": "7bf1dd73-0683-4bff-aee6-2795fcfec81f"
      },
      "execution_count": 9,
      "outputs": [
        {
          "output_type": "execute_result",
          "data": {
            "text/plain": [
              "array([[  0,   0,   0,   0,   0,   0,   0,   0,   0,   0,   0,   0,   0,\n",
              "          0,   0,   0,   0,   0,   0,   0,   0,   0,   0,   0,   0,   0,\n",
              "          0,   0],\n",
              "       [  0,   0,   0,   0,   0,   0,   0,   0,   0,   0,   0,   0,   0,\n",
              "          0,   0,   0,   0,   0,   0,   0,   0,   0,   0,   0,   0,   0,\n",
              "          0,   0],\n",
              "       [  0,   0,   0,   0,   0,   0,   0,   0,   0,   0,   0,   0,   0,\n",
              "          0,   0,   0,   0,   0,   0,   0,   0,   0,   0,   0,   0,   0,\n",
              "          0,   0],\n",
              "       [  0,   0,   0,   0,   0,   0,   0,   0,   0,   0,   0,   0,   0,\n",
              "          0,   0,   0,   0,   0,   0,   0,   0,   0,   0,   0,   0,   0,\n",
              "          0,   0],\n",
              "       [  0,   0,   0,   0,   0,   0,   0,   0,   0,   0,   0,   0,   0,\n",
              "          0,   0,   0,   0,   0,   0,   0,   0,   0,   0,   0,   0,   0,\n",
              "          0,   0],\n",
              "       [  0,   0,   0,   0,   0,   0,   0,   0,   0,   0,   0,   0,   3,\n",
              "         18,  18,  18, 126, 136, 175,  26, 166, 255, 247, 127,   0,   0,\n",
              "          0,   0],\n",
              "       [  0,   0,   0,   0,   0,   0,   0,   0,  30,  36,  94, 154, 170,\n",
              "        253, 253, 253, 253, 253, 225, 172, 253, 242, 195,  64,   0,   0,\n",
              "          0,   0],\n",
              "       [  0,   0,   0,   0,   0,   0,   0,  49, 238, 253, 253, 253, 253,\n",
              "        253, 253, 253, 253, 251,  93,  82,  82,  56,  39,   0,   0,   0,\n",
              "          0,   0],\n",
              "       [  0,   0,   0,   0,   0,   0,   0,  18, 219, 253, 253, 253, 253,\n",
              "        253, 198, 182, 247, 241,   0,   0,   0,   0,   0,   0,   0,   0,\n",
              "          0,   0],\n",
              "       [  0,   0,   0,   0,   0,   0,   0,   0,  80, 156, 107, 253, 253,\n",
              "        205,  11,   0,  43, 154,   0,   0,   0,   0,   0,   0,   0,   0,\n",
              "          0,   0],\n",
              "       [  0,   0,   0,   0,   0,   0,   0,   0,   0,  14,   1, 154, 253,\n",
              "         90,   0,   0,   0,   0,   0,   0,   0,   0,   0,   0,   0,   0,\n",
              "          0,   0],\n",
              "       [  0,   0,   0,   0,   0,   0,   0,   0,   0,   0,   0, 139, 253,\n",
              "        190,   2,   0,   0,   0,   0,   0,   0,   0,   0,   0,   0,   0,\n",
              "          0,   0],\n",
              "       [  0,   0,   0,   0,   0,   0,   0,   0,   0,   0,   0,  11, 190,\n",
              "        253,  70,   0,   0,   0,   0,   0,   0,   0,   0,   0,   0,   0,\n",
              "          0,   0],\n",
              "       [  0,   0,   0,   0,   0,   0,   0,   0,   0,   0,   0,   0,  35,\n",
              "        241, 225, 160, 108,   1,   0,   0,   0,   0,   0,   0,   0,   0,\n",
              "          0,   0],\n",
              "       [  0,   0,   0,   0,   0,   0,   0,   0,   0,   0,   0,   0,   0,\n",
              "         81, 240, 253, 253, 119,  25,   0,   0,   0,   0,   0,   0,   0,\n",
              "          0,   0],\n",
              "       [  0,   0,   0,   0,   0,   0,   0,   0,   0,   0,   0,   0,   0,\n",
              "          0,  45, 186, 253, 253, 150,  27,   0,   0,   0,   0,   0,   0,\n",
              "          0,   0],\n",
              "       [  0,   0,   0,   0,   0,   0,   0,   0,   0,   0,   0,   0,   0,\n",
              "          0,   0,  16,  93, 252, 253, 187,   0,   0,   0,   0,   0,   0,\n",
              "          0,   0],\n",
              "       [  0,   0,   0,   0,   0,   0,   0,   0,   0,   0,   0,   0,   0,\n",
              "          0,   0,   0,   0, 249, 253, 249,  64,   0,   0,   0,   0,   0,\n",
              "          0,   0],\n",
              "       [  0,   0,   0,   0,   0,   0,   0,   0,   0,   0,   0,   0,   0,\n",
              "          0,  46, 130, 183, 253, 253, 207,   2,   0,   0,   0,   0,   0,\n",
              "          0,   0],\n",
              "       [  0,   0,   0,   0,   0,   0,   0,   0,   0,   0,   0,   0,  39,\n",
              "        148, 229, 253, 253, 253, 250, 182,   0,   0,   0,   0,   0,   0,\n",
              "          0,   0],\n",
              "       [  0,   0,   0,   0,   0,   0,   0,   0,   0,   0,  24, 114, 221,\n",
              "        253, 253, 253, 253, 201,  78,   0,   0,   0,   0,   0,   0,   0,\n",
              "          0,   0],\n",
              "       [  0,   0,   0,   0,   0,   0,   0,   0,  23,  66, 213, 253, 253,\n",
              "        253, 253, 198,  81,   2,   0,   0,   0,   0,   0,   0,   0,   0,\n",
              "          0,   0],\n",
              "       [  0,   0,   0,   0,   0,   0,  18, 171, 219, 253, 253, 253, 253,\n",
              "        195,  80,   9,   0,   0,   0,   0,   0,   0,   0,   0,   0,   0,\n",
              "          0,   0],\n",
              "       [  0,   0,   0,   0,  55, 172, 226, 253, 253, 253, 253, 244, 133,\n",
              "         11,   0,   0,   0,   0,   0,   0,   0,   0,   0,   0,   0,   0,\n",
              "          0,   0],\n",
              "       [  0,   0,   0,   0, 136, 253, 253, 253, 212, 135, 132,  16,   0,\n",
              "          0,   0,   0,   0,   0,   0,   0,   0,   0,   0,   0,   0,   0,\n",
              "          0,   0],\n",
              "       [  0,   0,   0,   0,   0,   0,   0,   0,   0,   0,   0,   0,   0,\n",
              "          0,   0,   0,   0,   0,   0,   0,   0,   0,   0,   0,   0,   0,\n",
              "          0,   0],\n",
              "       [  0,   0,   0,   0,   0,   0,   0,   0,   0,   0,   0,   0,   0,\n",
              "          0,   0,   0,   0,   0,   0,   0,   0,   0,   0,   0,   0,   0,\n",
              "          0,   0],\n",
              "       [  0,   0,   0,   0,   0,   0,   0,   0,   0,   0,   0,   0,   0,\n",
              "          0,   0,   0,   0,   0,   0,   0,   0,   0,   0,   0,   0,   0,\n",
              "          0,   0]], dtype=uint8)"
            ],
            "text/html": [
              "<style>\n",
              "      .ndarray_repr .ndarray_raw_data {\n",
              "        display: none;\n",
              "      }\n",
              "      .ndarray_repr.show_array .ndarray_raw_data {\n",
              "        display: block;\n",
              "      }\n",
              "      .ndarray_repr.show_array .ndarray_image_preview {\n",
              "        display: none;\n",
              "      }\n",
              "      </style>\n",
              "      <div id=\"id-b4a32fb7-3576-4c87-897c-296afd8007f2\" class=\"ndarray_repr\"><pre>ndarray (28, 28) <button style=\"padding: 0 2px;\">show data</button></pre><img src=\"data:image/png;base64,iVBORw0KGgoAAAANSUhEUgAAABwAAAAcCAAAAABXZoBIAAABAElEQVR4nGNgGMyAWUhIqK5jvdSy/9/rGRgYGFhgEnJsVjYCwQwMDAxPJgV+vniQgYGBgREqZ7iXH8r6l/SV4dn7m8gmCt3++/fv37/Htn3/iMW+gDnZf/+e5WbQnoXNNXyMs/5GoQoxwVmf/n9kSGFiwAW49/11wynJoPzx4YIcRlyygR/+/i2XxCWru+vv32nSuGQFYv/83Y3b4p9/fzpAmSyoMnohpiwM1w5h06Q+5enfv39/bcMiJVF09+/fv39P+mFKiTtd/fv3799jgZiBJLT69t+/f/8eDuDEkDJf8+jv379/v7Ryo4qzMDAwMAQGMjBc3/y35wM2V1IfAABFF16Aa0wAOwAAAABJRU5ErkJggg==\" class=\"ndarray_image_preview\" /><pre class=\"ndarray_raw_data\">array([[  0,   0,   0,   0,   0,   0,   0,   0,   0,   0,   0,   0,   0,\n",
              "          0,   0,   0,   0,   0,   0,   0,   0,   0,   0,   0,   0,   0,\n",
              "          0,   0],\n",
              "       [  0,   0,   0,   0,   0,   0,   0,   0,   0,   0,   0,   0,   0,\n",
              "          0,   0,   0,   0,   0,   0,   0,   0,   0,   0,   0,   0,   0,\n",
              "          0,   0],\n",
              "       [  0,   0,   0,   0,   0,   0,   0,   0,   0,   0,   0,   0,   0,\n",
              "          0,   0,   0,   0,   0,   0,   0,   0,   0,   0,   0,   0,   0,\n",
              "          0,   0],\n",
              "       [  0,   0,   0,   0,   0,   0,   0,   0,   0,   0,   0,   0,   0,\n",
              "          0,   0,   0,   0,   0,   0,   0,   0,   0,   0,   0,   0,   0,\n",
              "          0,   0],\n",
              "       [  0,   0,   0,   0,   0,   0,   0,   0,   0,   0,   0,   0,   0,\n",
              "          0,   0,   0,   0,   0,   0,   0,   0,   0,   0,   0,   0,   0,\n",
              "          0,   0],\n",
              "       [  0,   0,   0,   0,   0,   0,   0,   0,   0,   0,   0,   0,   3,\n",
              "         18,  18,  18, 126, 136, 175,  26, 166, 255, 247, 127,   0,   0,\n",
              "          0,   0],\n",
              "       [  0,   0,   0,   0,   0,   0,   0,   0,  30,  36,  94, 154, 170,\n",
              "        253, 253, 253, 253, 253, 225, 172, 253, 242, 195,  64,   0,   0,\n",
              "          0,   0],\n",
              "       [  0,   0,   0,   0,   0,   0,   0,  49, 238, 253, 253, 253, 253,\n",
              "        253, 253, 253, 253, 251,  93,  82,  82,  56,  39,   0,   0,   0,\n",
              "          0,   0],\n",
              "       [  0,   0,   0,   0,   0,   0,   0,  18, 219, 253, 253, 253, 253,\n",
              "        253, 198, 182, 247, 241,   0,   0,   0,   0,   0,   0,   0,   0,\n",
              "          0,   0],\n",
              "       [  0,   0,   0,   0,   0,   0,   0,   0,  80, 156, 107, 253, 253,\n",
              "        205,  11,   0,  43, 154,   0,   0,   0,   0,   0,   0,   0,   0,\n",
              "          0,   0],\n",
              "       [  0,   0,   0,   0,   0,   0,   0,   0,   0,  14,   1, 154, 253,\n",
              "         90,   0,   0,   0,   0,   0,   0,   0,   0,   0,   0,   0,   0,\n",
              "          0,   0],\n",
              "       [  0,   0,   0,   0,   0,   0,   0,   0,   0,   0,   0, 139, 253,\n",
              "        190,   2,   0,   0,   0,   0,   0,   0,   0,   0,   0,   0,   0,\n",
              "          0,   0],\n",
              "       [  0,   0,   0,   0,   0,   0,   0,   0,   0,   0,   0,  11, 190,\n",
              "        253,  70,   0,   0,   0,   0,   0,   0,   0,   0,   0,   0,   0,\n",
              "          0,   0],\n",
              "       [  0,   0,   0,   0,   0,   0,   0,   0,   0,   0,   0,   0,  35,\n",
              "        241, 225, 160, 108,   1,   0,   0,   0,   0,   0,   0,   0,   0,\n",
              "          0,   0],\n",
              "       [  0,   0,   0,   0,   0,   0,   0,   0,   0,   0,   0,   0,   0,\n",
              "         81, 240, 253, 253, 119,  25,   0,   0,   0,   0,   0,   0,   0,\n",
              "          0,   0],\n",
              "       [  0,   0,   0,   0,   0,   0,   0,   0,   0,   0,   0,   0,   0,\n",
              "          0,  45, 186, 253, 253, 150,  27,   0,   0,   0,   0,   0,   0,\n",
              "          0,   0],\n",
              "       [  0,   0,   0,   0,   0,   0,   0,   0,   0,   0,   0,   0,   0,\n",
              "          0,   0,  16,  93, 252, 253, 187,   0,   0,   0,   0,   0,   0,\n",
              "          0,   0],\n",
              "       [  0,   0,   0,   0,   0,   0,   0,   0,   0,   0,   0,   0,   0,\n",
              "          0,   0,   0,   0, 249, 253, 249,  64,   0,   0,   0,   0,   0,\n",
              "          0,   0],\n",
              "       [  0,   0,   0,   0,   0,   0,   0,   0,   0,   0,   0,   0,   0,\n",
              "          0,  46, 130, 183, 253, 253, 207,   2,   0,   0,   0,   0,   0,\n",
              "          0,   0],\n",
              "       [  0,   0,   0,   0,   0,   0,   0,   0,   0,   0,   0,   0,  39,\n",
              "        148, 229, 253, 253, 253, 250, 182,   0,   0,   0,   0,   0,   0,\n",
              "          0,   0],\n",
              "       [  0,   0,   0,   0,   0,   0,   0,   0,   0,   0,  24, 114, 221,\n",
              "        253, 253, 253, 253, 201,  78,   0,   0,   0,   0,   0,   0,   0,\n",
              "          0,   0],\n",
              "       [  0,   0,   0,   0,   0,   0,   0,   0,  23,  66, 213, 253, 253,\n",
              "        253, 253, 198,  81,   2,   0,   0,   0,   0,   0,   0,   0,   0,\n",
              "          0,   0],\n",
              "       [  0,   0,   0,   0,   0,   0,  18, 171, 219, 253, 253, 253, 253,\n",
              "        195,  80,   9,   0,   0,   0,   0,   0,   0,   0,   0,   0,   0,\n",
              "          0,   0],\n",
              "       [  0,   0,   0,   0,  55, 172, 226, 253, 253, 253, 253, 244, 133,\n",
              "         11,   0,   0,   0,   0,   0,   0,   0,   0,   0,   0,   0,   0,\n",
              "          0,   0],\n",
              "       [  0,   0,   0,   0, 136, 253, 253, 253, 212, 135, 132,  16,   0,\n",
              "          0,   0,   0,   0,   0,   0,   0,   0,   0,   0,   0,   0,   0,\n",
              "          0,   0],\n",
              "       [  0,   0,   0,   0,   0,   0,   0,   0,   0,   0,   0,   0,   0,\n",
              "          0,   0,   0,   0,   0,   0,   0,   0,   0,   0,   0,   0,   0,\n",
              "          0,   0],\n",
              "       [  0,   0,   0,   0,   0,   0,   0,   0,   0,   0,   0,   0,   0,\n",
              "          0,   0,   0,   0,   0,   0,   0,   0,   0,   0,   0,   0,   0,\n",
              "          0,   0],\n",
              "       [  0,   0,   0,   0,   0,   0,   0,   0,   0,   0,   0,   0,   0,\n",
              "          0,   0,   0,   0,   0,   0,   0,   0,   0,   0,   0,   0,   0,\n",
              "          0,   0]], dtype=uint8)</pre></div><script>\n",
              "      (() => {\n",
              "      const titles = ['show data', 'hide data'];\n",
              "      let index = 0\n",
              "      document.querySelector('#id-b4a32fb7-3576-4c87-897c-296afd8007f2 button').onclick = (e) => {\n",
              "        document.querySelector('#id-b4a32fb7-3576-4c87-897c-296afd8007f2').classList.toggle('show_array');\n",
              "        index = (++index) % 2;\n",
              "        document.querySelector('#id-b4a32fb7-3576-4c87-897c-296afd8007f2 button').textContent = titles[index];\n",
              "        e.preventDefault();\n",
              "        e.stopPropagation();\n",
              "      }\n",
              "      })();\n",
              "    </script>"
            ]
          },
          "metadata": {},
          "execution_count": 9
        }
      ]
    },
    {
      "cell_type": "code",
      "source": [
        "import matplotlib.pyplot as plt\n",
        "\n",
        "plt.imshow(xtrain[0], cmap=\"gray\")\n",
        "plt.title(f\"Label : {ytrain[0]}\")"
      ],
      "metadata": {
        "colab": {
          "base_uri": "https://localhost:8080/",
          "height": 470
        },
        "id": "6wjLj10gIBlM",
        "outputId": "3497c4bc-a220-45e1-8703-7014f5a92663"
      },
      "execution_count": 12,
      "outputs": [
        {
          "output_type": "execute_result",
          "data": {
            "text/plain": [
              "Text(0.5, 1.0, 'Label : 5')"
            ]
          },
          "metadata": {},
          "execution_count": 12
        },
        {
          "output_type": "display_data",
          "data": {
            "text/plain": [
              "<Figure size 640x480 with 1 Axes>"
            ],
            "image/png": "[encoded data removed]"
          },
          "metadata": {}
        }
      ]
    },
    {
      "cell_type": "code",
      "source": [
        "import seaborn as sns\n",
        "\n",
        "plt.figure(figsize=(15, 15))\n",
        "sns.heatmap(xtrain[0], cmap=\"gray\", annot=True, fmt=\"d\")\n",
        "plt.show()"
      ],
      "metadata": {
        "colab": {
          "base_uri": "https://localhost:8080/",
          "height": 1000
        },
        "id": "5CZmiolxJ8SO",
        "outputId": "c1527ba8-714a-4d0d-dbda-3acb5cae46dc"
      },
      "execution_count": 29,
      "outputs": [
        {
          "output_type": "display_data",
          "data": {
            "text/plain": [
              "<Figure size 1500x1500 with 2 Axes>"
            ],
            "image/png": "[encoded data removed]"
          },
          "metadata": {}
        }
      ]
    },
    {
      "cell_type": "code",
      "source": [
        "random_idx = np.random.randint(0,  xtrain.shape[1], size=9)\n",
        "list(enumerate(random_idx))"
      ],
      "metadata": {
        "colab": {
          "base_uri": "https://localhost:8080/"
        },
        "id": "iI8FoolqJPNt",
        "outputId": "92fa23d8-8950-42aa-d60f-4e02812a20fc"
      },
      "execution_count": 19,
      "outputs": [
        {
          "output_type": "execute_result",
          "data": {
            "text/plain": [
              "[(0, np.int64(5)),\n",
              " (1, np.int64(0)),\n",
              " (2, np.int64(19)),\n",
              " (3, np.int64(8)),\n",
              " (4, np.int64(7)),\n",
              " (5, np.int64(26)),\n",
              " (6, np.int64(11)),\n",
              " (7, np.int64(2)),\n",
              " (8, np.int64(8))]"
            ]
          },
          "metadata": {},
          "execution_count": 19
        }
      ]
    },
    {
      "cell_type": "code",
      "source": [
        "import numpy as np\n",
        "\n",
        "def show_random_imgs():\n",
        "  random_idx = np.random.randint(0,  xtrain.shape[1], size=9)\n",
        "  plt.figure(figsize=(10, 10))\n",
        "  for idx, value in enumerate(random_idx):\n",
        "    plt.subplot(3, 3, idx+1)\n",
        "    plt.imshow(xtrain[value], cmap=\"gray\")\n",
        "    plt.title(f\"Label : {ytrain[value]}\")\n",
        "    plt.axis(\"off\")\n",
        "\n",
        "  plt.show()"
      ],
      "metadata": {
        "id": "3gWrTT2RIKME"
      },
      "execution_count": 22,
      "outputs": []
    },
    {
      "cell_type": "code",
      "source": [
        "show_random_imgs()"
      ],
      "metadata": {
        "colab": {
          "base_uri": "https://localhost:8080/",
          "height": 829
        },
        "id": "m0AAvp82IdUc",
        "outputId": "9a788a0c-509a-497e-8ef1-a4e86402d4d2"
      },
      "execution_count": 30,
      "outputs": [
        {
          "output_type": "display_data",
          "data": {
            "text/plain": [
              "<Figure size 1000x1000 with 9 Axes>"
            ],
            "image/png": "[encoded data removed]"
          },
          "metadata": {}
        }
      ]
    },
    {
      "cell_type": "code",
      "source": [
        "np.unique(ytrain)"
      ],
      "metadata": {
        "colab": {
          "base_uri": "https://localhost:8080/"
        },
        "id": "JM-YnPjkJr5F",
        "outputId": "734cbbb1-1fcd-40eb-a0b1-29f582737f5d"
      },
      "execution_count": 31,
      "outputs": [
        {
          "output_type": "execute_result",
          "data": {
            "text/plain": [
              "array([0, 1, 2, 3, 4, 5, 6, 7, 8, 9], dtype=uint8)"
            ]
          },
          "metadata": {},
          "execution_count": 31
        }
      ]
    },
    {
      "cell_type": "markdown",
      "source": [
        "# Preprocess the data\n",
        "pixel range is between 0 - 255"
      ],
      "metadata": {
        "id": "HxBakM7yKg67"
      }
    },
    {
      "cell_type": "code",
      "source": [
        "xtrain_pre = xtrain.astype(\"float32\") / 255.0\n",
        "xtest_pre = xtest.astype(\"float32\") / 255.0"
      ],
      "metadata": {
        "id": "Zb8p8PpcKXgZ"
      },
      "execution_count": 32,
      "outputs": []
    },
    {
      "cell_type": "code",
      "source": [
        "xtrain_pre[0]"
      ],
      "metadata": {
        "colab": {
          "base_uri": "https://localhost:8080/"
        },
        "id": "h4FTooCZKtAP",
        "outputId": "b93470ad-1f82-4daa-dfd3-47cf7787e4c1"
      },
      "execution_count": 34,
      "outputs": [
        {
          "output_type": "execute_result",
          "data": {
            "text/plain": [
              "array([[0.        , 0.        , 0.        , 0.        , 0.        ,\n",
              "        0.        , 0.        , 0.        , 0.        , 0.        ,\n",
              "        0.        , 0.        , 0.        , 0.        , 0.        ,\n",
              "        0.        , 0.        , 0.        , 0.        , 0.        ,\n",
              "        0.        , 0.        , 0.        , 0.        , 0.        ,\n",
              "        0.        , 0.        , 0.        ],\n",
              "       [0.        , 0.        , 0.        , 0.        , 0.        ,\n",
              "        0.        , 0.        , 0.        , 0.        , 0.        ,\n",
              "        0.        , 0.        , 0.        , 0.        , 0.        ,\n",
              "        0.        , 0.        , 0.        , 0.        , 0.        ,\n",
              "        0.        , 0.        , 0.        , 0.        , 0.        ,\n",
              "        0.        , 0.        , 0.        ],\n",
              "       [0.        , 0.        , 0.        , 0.        , 0.        ,\n",
              "        0.        , 0.        , 0.        , 0.        , 0.        ,\n",
              "        0.        , 0.        , 0.        , 0.        , 0.        ,\n",
              "        0.        , 0.        , 0.        , 0.        , 0.        ,\n",
              "        0.        , 0.        , 0.        , 0.        , 0.        ,\n",
              "        0.        , 0.        , 0.        ],\n",
              "       [0.        , 0.        , 0.        , 0.        , 0.        ,\n",
              "        0.        , 0.        , 0.        , 0.        , 0.        ,\n",
              "        0.        , 0.        , 0.        , 0.        , 0.        ,\n",
              "        0.        , 0.        , 0.        , 0.        , 0.        ,\n",
              "        0.        , 0.        , 0.        , 0.        , 0.        ,\n",
              "        0.        , 0.        , 0.        ],\n",
              "       [0.        , 0.        , 0.        , 0.        , 0.        ,\n",
              "        0.        , 0.        , 0.        , 0.        , 0.        ,\n",
              "        0.        , 0.        , 0.        , 0.        , 0.        ,\n",
              "        0.        , 0.        , 0.        , 0.        , 0.        ,\n",
              "        0.        , 0.        , 0.        , 0.        , 0.        ,\n",
              "        0.        , 0.        , 0.        ],\n",
              "       [0.        , 0.        , 0.        , 0.        , 0.        ,\n",
              "        0.        , 0.        , 0.        , 0.        , 0.        ,\n",
              "        0.        , 0.        , 0.01176471, 0.07058824, 0.07058824,\n",
              "        0.07058824, 0.49411765, 0.53333336, 0.6862745 , 0.10196079,\n",
              "        0.6509804 , 1.        , 0.96862745, 0.49803922, 0.        ,\n",
              "        0.        , 0.        , 0.        ],\n",
              "       [0.        , 0.        , 0.        , 0.        , 0.        ,\n",
              "        0.        , 0.        , 0.        , 0.11764706, 0.14117648,\n",
              "        0.36862746, 0.6039216 , 0.6666667 , 0.99215686, 0.99215686,\n",
              "        0.99215686, 0.99215686, 0.99215686, 0.88235295, 0.6745098 ,\n",
              "        0.99215686, 0.9490196 , 0.7647059 , 0.2509804 , 0.        ,\n",
              "        0.        , 0.        , 0.        ],\n",
              "       [0.        , 0.        , 0.        , 0.        , 0.        ,\n",
              "        0.        , 0.        , 0.19215687, 0.93333334, 0.99215686,\n",
              "        0.99215686, 0.99215686, 0.99215686, 0.99215686, 0.99215686,\n",
              "        0.99215686, 0.99215686, 0.9843137 , 0.3647059 , 0.32156864,\n",
              "        0.32156864, 0.21960784, 0.15294118, 0.        , 0.        ,\n",
              "        0.        , 0.        , 0.        ],\n",
              "       [0.        , 0.        , 0.        , 0.        , 0.        ,\n",
              "        0.        , 0.        , 0.07058824, 0.85882354, 0.99215686,\n",
              "        0.99215686, 0.99215686, 0.99215686, 0.99215686, 0.7764706 ,\n",
              "        0.7137255 , 0.96862745, 0.94509804, 0.        , 0.        ,\n",
              "        0.        , 0.        , 0.        , 0.        , 0.        ,\n",
              "        0.        , 0.        , 0.        ],\n",
              "       [0.        , 0.        , 0.        , 0.        , 0.        ,\n",
              "        0.        , 0.        , 0.        , 0.3137255 , 0.6117647 ,\n",
              "        0.41960785, 0.99215686, 0.99215686, 0.8039216 , 0.04313726,\n",
              "        0.        , 0.16862746, 0.6039216 , 0.        , 0.        ,\n",
              "        0.        , 0.        , 0.        , 0.        , 0.        ,\n",
              "        0.        , 0.        , 0.        ],\n",
              "       [0.        , 0.        , 0.        , 0.        , 0.        ,\n",
              "        0.        , 0.        , 0.        , 0.        , 0.05490196,\n",
              "        0.00392157, 0.6039216 , 0.99215686, 0.3529412 , 0.        ,\n",
              "        0.        , 0.        , 0.        , 0.        , 0.        ,\n",
              "        0.        , 0.        , 0.        , 0.        , 0.        ,\n",
              "        0.        , 0.        , 0.        ],\n",
              "       [0.        , 0.        , 0.        , 0.        , 0.        ,\n",
              "        0.        , 0.        , 0.        , 0.        , 0.        ,\n",
              "        0.        , 0.54509807, 0.99215686, 0.74509805, 0.00784314,\n",
              "        0.        , 0.        , 0.        , 0.        , 0.        ,\n",
              "        0.        , 0.        , 0.        , 0.        , 0.        ,\n",
              "        0.        , 0.        , 0.        ],\n",
              "       [0.        , 0.        , 0.        , 0.        , 0.        ,\n",
              "        0.        , 0.        , 0.        , 0.        , 0.        ,\n",
              "        0.        , 0.04313726, 0.74509805, 0.99215686, 0.27450982,\n",
              "        0.        , 0.        , 0.        , 0.        , 0.        ,\n",
              "        0.        , 0.        , 0.        , 0.        , 0.        ,\n",
              "        0.        , 0.        , 0.        ],\n",
              "       [0.        , 0.        , 0.        , 0.        , 0.        ,\n",
              "        0.        , 0.        , 0.        , 0.        , 0.        ,\n",
              "        0.        , 0.        , 0.13725491, 0.94509804, 0.88235295,\n",
              "        0.627451  , 0.42352942, 0.00392157, 0.        , 0.        ,\n",
              "        0.        , 0.        , 0.        , 0.        , 0.        ,\n",
              "        0.        , 0.        , 0.        ],\n",
              "       [0.        , 0.        , 0.        , 0.        , 0.        ,\n",
              "        0.        , 0.        , 0.        , 0.        , 0.        ,\n",
              "        0.        , 0.        , 0.        , 0.31764707, 0.9411765 ,\n",
              "        0.99215686, 0.99215686, 0.46666667, 0.09803922, 0.        ,\n",
              "        0.        , 0.        , 0.        , 0.        , 0.        ,\n",
              "        0.        , 0.        , 0.        ],\n",
              "       [0.        , 0.        , 0.        , 0.        , 0.        ,\n",
              "        0.        , 0.        , 0.        , 0.        , 0.        ,\n",
              "        0.        , 0.        , 0.        , 0.        , 0.1764706 ,\n",
              "        0.7294118 , 0.99215686, 0.99215686, 0.5882353 , 0.10588235,\n",
              "        0.        , 0.        , 0.        , 0.        , 0.        ,\n",
              "        0.        , 0.        , 0.        ],\n",
              "       [0.        , 0.        , 0.        , 0.        , 0.        ,\n",
              "        0.        , 0.        , 0.        , 0.        , 0.        ,\n",
              "        0.        , 0.        , 0.        , 0.        , 0.        ,\n",
              "        0.0627451 , 0.3647059 , 0.9882353 , 0.99215686, 0.73333335,\n",
              "        0.        , 0.        , 0.        , 0.        , 0.        ,\n",
              "        0.        , 0.        , 0.        ],\n",
              "       [0.        , 0.        , 0.        , 0.        , 0.        ,\n",
              "        0.        , 0.        , 0.        , 0.        , 0.        ,\n",
              "        0.        , 0.        , 0.        , 0.        , 0.        ,\n",
              "        0.        , 0.        , 0.9764706 , 0.99215686, 0.9764706 ,\n",
              "        0.2509804 , 0.        , 0.        , 0.        , 0.        ,\n",
              "        0.        , 0.        , 0.        ],\n",
              "       [0.        , 0.        , 0.        , 0.        , 0.        ,\n",
              "        0.        , 0.        , 0.        , 0.        , 0.        ,\n",
              "        0.        , 0.        , 0.        , 0.        , 0.18039216,\n",
              "        0.50980395, 0.7176471 , 0.99215686, 0.99215686, 0.8117647 ,\n",
              "        0.00784314, 0.        , 0.        , 0.        , 0.        ,\n",
              "        0.        , 0.        , 0.        ],\n",
              "       [0.        , 0.        , 0.        , 0.        , 0.        ,\n",
              "        0.        , 0.        , 0.        , 0.        , 0.        ,\n",
              "        0.        , 0.        , 0.15294118, 0.5803922 , 0.8980392 ,\n",
              "        0.99215686, 0.99215686, 0.99215686, 0.98039216, 0.7137255 ,\n",
              "        0.        , 0.        , 0.        , 0.        , 0.        ,\n",
              "        0.        , 0.        , 0.        ],\n",
              "       [0.        , 0.        , 0.        , 0.        , 0.        ,\n",
              "        0.        , 0.        , 0.        , 0.        , 0.        ,\n",
              "        0.09411765, 0.44705883, 0.8666667 , 0.99215686, 0.99215686,\n",
              "        0.99215686, 0.99215686, 0.7882353 , 0.30588236, 0.        ,\n",
              "        0.        , 0.        , 0.        , 0.        , 0.        ,\n",
              "        0.        , 0.        , 0.        ],\n",
              "       [0.        , 0.        , 0.        , 0.        , 0.        ,\n",
              "        0.        , 0.        , 0.        , 0.09019608, 0.25882354,\n",
              "        0.8352941 , 0.99215686, 0.99215686, 0.99215686, 0.99215686,\n",
              "        0.7764706 , 0.31764707, 0.00784314, 0.        , 0.        ,\n",
              "        0.        , 0.        , 0.        , 0.        , 0.        ,\n",
              "        0.        , 0.        , 0.        ],\n",
              "       [0.        , 0.        , 0.        , 0.        , 0.        ,\n",
              "        0.        , 0.07058824, 0.67058825, 0.85882354, 0.99215686,\n",
              "        0.99215686, 0.99215686, 0.99215686, 0.7647059 , 0.3137255 ,\n",
              "        0.03529412, 0.        , 0.        , 0.        , 0.        ,\n",
              "        0.        , 0.        , 0.        , 0.        , 0.        ,\n",
              "        0.        , 0.        , 0.        ],\n",
              "       [0.        , 0.        , 0.        , 0.        , 0.21568628,\n",
              "        0.6745098 , 0.8862745 , 0.99215686, 0.99215686, 0.99215686,\n",
              "        0.99215686, 0.95686275, 0.52156866, 0.04313726, 0.        ,\n",
              "        0.        , 0.        , 0.        , 0.        , 0.        ,\n",
              "        0.        , 0.        , 0.        , 0.        , 0.        ,\n",
              "        0.        , 0.        , 0.        ],\n",
              "       [0.        , 0.        , 0.        , 0.        , 0.53333336,\n",
              "        0.99215686, 0.99215686, 0.99215686, 0.83137256, 0.5294118 ,\n",
              "        0.5176471 , 0.0627451 , 0.        , 0.        , 0.        ,\n",
              "        0.        , 0.        , 0.        , 0.        , 0.        ,\n",
              "        0.        , 0.        , 0.        , 0.        , 0.        ,\n",
              "        0.        , 0.        , 0.        ],\n",
              "       [0.        , 0.        , 0.        , 0.        , 0.        ,\n",
              "        0.        , 0.        , 0.        , 0.        , 0.        ,\n",
              "        0.        , 0.        , 0.        , 0.        , 0.        ,\n",
              "        0.        , 0.        , 0.        , 0.        , 0.        ,\n",
              "        0.        , 0.        , 0.        , 0.        , 0.        ,\n",
              "        0.        , 0.        , 0.        ],\n",
              "       [0.        , 0.        , 0.        , 0.        , 0.        ,\n",
              "        0.        , 0.        , 0.        , 0.        , 0.        ,\n",
              "        0.        , 0.        , 0.        , 0.        , 0.        ,\n",
              "        0.        , 0.        , 0.        , 0.        , 0.        ,\n",
              "        0.        , 0.        , 0.        , 0.        , 0.        ,\n",
              "        0.        , 0.        , 0.        ],\n",
              "       [0.        , 0.        , 0.        , 0.        , 0.        ,\n",
              "        0.        , 0.        , 0.        , 0.        , 0.        ,\n",
              "        0.        , 0.        , 0.        , 0.        , 0.        ,\n",
              "        0.        , 0.        , 0.        , 0.        , 0.        ,\n",
              "        0.        , 0.        , 0.        , 0.        , 0.        ,\n",
              "        0.        , 0.        , 0.        ]], dtype=float32)"
            ]
          },
          "metadata": {},
          "execution_count": 34
        }
      ]
    },
    {
      "cell_type": "code",
      "source": [
        "xtrain_pre = np.expand_dims(xtrain_pre, -1)\n",
        "xtest_pre = np.expand_dims(xtest_pre, -1)"
      ],
      "metadata": {
        "id": "CuNKugLhKt_H"
      },
      "execution_count": 35,
      "outputs": []
    },
    {
      "cell_type": "code",
      "source": [
        "xtrain_pre.shape"
      ],
      "metadata": {
        "colab": {
          "base_uri": "https://localhost:8080/"
        },
        "id": "Y-jobdp_LN9c",
        "outputId": "1a1539a3-9a4f-4586-bd2a-23f2f0b37c69"
      },
      "execution_count": 36,
      "outputs": [
        {
          "output_type": "execute_result",
          "data": {
            "text/plain": [
              "(60000, 28, 28, 1)"
            ]
          },
          "metadata": {},
          "execution_count": 36
        }
      ]
    },
    {
      "cell_type": "code",
      "source": [
        "xtest_pre.shape"
      ],
      "metadata": {
        "colab": {
          "base_uri": "https://localhost:8080/"
        },
        "id": "1yJvVSRILO7T",
        "outputId": "a463a3d7-ffb2-4ea2-b9f8-abf3184cbdb9"
      },
      "execution_count": 37,
      "outputs": [
        {
          "output_type": "execute_result",
          "data": {
            "text/plain": [
              "(10000, 28, 28, 1)"
            ]
          },
          "metadata": {},
          "execution_count": 37
        }
      ]
    },
    {
      "cell_type": "markdown",
      "source": [
        "# Preprocess ytrain, ytest with onehot encoding\n",
        "For multiclass classification you require onehotencoding"
      ],
      "metadata": {
        "id": "-1LkdRfNLcqk"
      }
    },
    {
      "cell_type": "code",
      "source": [
        "from keras.utils import to_categorical\n",
        "ytrain_pre = to_categorical(ytrain)\n",
        "ytrain_pre[0:5]"
      ],
      "metadata": {
        "colab": {
          "base_uri": "https://localhost:8080/"
        },
        "id": "af0QrtkzLVE6",
        "outputId": "4429fd5d-2c5d-4369-ec31-11d7c11bac96"
      },
      "execution_count": 38,
      "outputs": [
        {
          "output_type": "execute_result",
          "data": {
            "text/plain": [
              "array([[0., 0., 0., 0., 0., 1., 0., 0., 0., 0.],\n",
              "       [1., 0., 0., 0., 0., 0., 0., 0., 0., 0.],\n",
              "       [0., 0., 0., 0., 1., 0., 0., 0., 0., 0.],\n",
              "       [0., 1., 0., 0., 0., 0., 0., 0., 0., 0.],\n",
              "       [0., 0., 0., 0., 0., 0., 0., 0., 0., 1.]])"
            ]
          },
          "metadata": {},
          "execution_count": 38
        }
      ]
    },
    {
      "cell_type": "code",
      "source": [
        "ytrain[0:5]"
      ],
      "metadata": {
        "colab": {
          "base_uri": "https://localhost:8080/"
        },
        "id": "4rTR-42LL8Ii",
        "outputId": "30ca4145-83f3-4fda-c112-8d1673bcb138"
      },
      "execution_count": 40,
      "outputs": [
        {
          "output_type": "execute_result",
          "data": {
            "text/plain": [
              "array([5, 0, 4, 1, 9], dtype=uint8)"
            ]
          },
          "metadata": {},
          "execution_count": 40
        }
      ]
    },
    {
      "cell_type": "code",
      "source": [
        "np.unique(ytrain)"
      ],
      "metadata": {
        "colab": {
          "base_uri": "https://localhost:8080/"
        },
        "id": "EwOcgzFfLx-f",
        "outputId": "ded9c2f6-1def-4906-dfd2-02dfe35fef69"
      },
      "execution_count": 39,
      "outputs": [
        {
          "output_type": "execute_result",
          "data": {
            "text/plain": [
              "array([0, 1, 2, 3, 4, 5, 6, 7, 8, 9], dtype=uint8)"
            ]
          },
          "metadata": {},
          "execution_count": 39
        }
      ]
    },
    {
      "cell_type": "code",
      "source": [
        "ytest_pre = to_categorical(ytest)\n",
        "ytest_pre[0:5]"
      ],
      "metadata": {
        "colab": {
          "base_uri": "https://localhost:8080/"
        },
        "id": "cM4hdxyLL01t",
        "outputId": "45fabfd1-0de6-44c4-b2c9-d33a761bdadd"
      },
      "execution_count": 41,
      "outputs": [
        {
          "output_type": "execute_result",
          "data": {
            "text/plain": [
              "array([[0., 0., 0., 0., 0., 0., 0., 1., 0., 0.],\n",
              "       [0., 0., 1., 0., 0., 0., 0., 0., 0., 0.],\n",
              "       [0., 1., 0., 0., 0., 0., 0., 0., 0., 0.],\n",
              "       [1., 0., 0., 0., 0., 0., 0., 0., 0., 0.],\n",
              "       [0., 0., 0., 0., 1., 0., 0., 0., 0., 0.]])"
            ]
          },
          "metadata": {},
          "execution_count": 41
        }
      ]
    },
    {
      "cell_type": "code",
      "source": [
        "ytest[0:5]"
      ],
      "metadata": {
        "colab": {
          "base_uri": "https://localhost:8080/"
        },
        "id": "Uov7dMdDMIe2",
        "outputId": "2e270262-aa89-44de-dd14-b17702c00f10"
      },
      "execution_count": 42,
      "outputs": [
        {
          "output_type": "execute_result",
          "data": {
            "text/plain": [
              "array([7, 2, 1, 0, 4], dtype=uint8)"
            ]
          },
          "metadata": {},
          "execution_count": 42
        }
      ]
    },
    {
      "cell_type": "markdown",
      "source": [
        "# Build the convolutional neural network"
      ],
      "metadata": {
        "id": "NOuQNHGoMVtR"
      }
    },
    {
      "cell_type": "markdown",
      "source": [
        "![image.png](data:image/png;base64,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)"
      ],
      "metadata": {
        "id": "8usRFmj_Mvz9"
      }
    },
    {
      "cell_type": "code",
      "source": [
        "ytrain_pre.shape[1]"
      ],
      "metadata": {
        "colab": {
          "base_uri": "https://localhost:8080/"
        },
        "id": "FalYrFxfODP6",
        "outputId": "885221f3-88d4-4c5c-c46b-4ccc472ab68d"
      },
      "execution_count": 47,
      "outputs": [
        {
          "output_type": "execute_result",
          "data": {
            "text/plain": [
              "10"
            ]
          },
          "metadata": {},
          "execution_count": 47
        }
      ]
    },
    {
      "cell_type": "code",
      "source": [
        "from keras.models import Sequential\n",
        "from keras.layers import Input, Dense, Dropout, Convolution2D, MaxPool2D, Flatten"
      ],
      "metadata": {
        "id": "fAWo31LeMKo1"
      },
      "execution_count": 45,
      "outputs": []
    },
    {
      "cell_type": "code",
      "source": [
        "model = Sequential(\n",
        "    layers = [\n",
        "        Input(shape=(28, 28, 1)),\n",
        "        Convolution2D(32, kernel_size=(3, 3), activation=\"relu\"),\n",
        "        MaxPool2D(pool_size=(2, 2)),\n",
        "        Convolution2D(64, kernel_size=(3, 3), activation=\"relu\"),\n",
        "        MaxPool2D(pool_size=(2, 2)),\n",
        "        Flatten(),\n",
        "        Dropout(0.5),\n",
        "        Dense(ytrain_pre.shape[1], activation=\"softmax\")\n",
        "    ]\n",
        ")"
      ],
      "metadata": {
        "id": "sUtsSuQ2MmZ7"
      },
      "execution_count": 49,
      "outputs": []
    },
    {
      "cell_type": "code",
      "source": [
        "model.summary()"
      ],
      "metadata": {
        "colab": {
          "base_uri": "https://localhost:8080/",
          "height": 361
        },
        "id": "7CD68PgVOQXI",
        "outputId": "4581dfb3-63c4-430e-8d0b-b28887b155a8"
      },
      "execution_count": 50,
      "outputs": [
        {
          "output_type": "display_data",
          "data": {
            "text/plain": [
              "\u001b[1mModel: \"sequential\"\u001b[0m\n"
            ],
            "text/html": [
              "<pre style=\"white-space:pre;overflow-x:auto;line-height:normal;font-family:Menlo,'DejaVu Sans Mono',consolas,'Courier New',monospace\"><span style=\"font-weight: bold\">Model: \"sequential\"</span>\n",
              "</pre>\n"
            ]
          },
          "metadata": {}
        },
        {
          "output_type": "display_data",
          "data": {
            "text/plain": [
              "┏━━━━━━━━━━━━━━━━━━━━━━━━━━━━━━━━━┳━━━━━━━━━━━━━━━━━━━━━━━━┳━━━━━━━━━━━━━━━┓\n",
              "┃\u001b[1m \u001b[0m\u001b[1mLayer (type)                   \u001b[0m\u001b[1m \u001b[0m┃\u001b[1m \u001b[0m\u001b[1mOutput Shape          \u001b[0m\u001b[1m \u001b[0m┃\u001b[1m \u001b[0m\u001b[1m      Param #\u001b[0m\u001b[1m \u001b[0m┃\n",
              "┡━━━━━━━━━━━━━━━━━━━━━━━━━━━━━━━━━╇━━━━━━━━━━━━━━━━━━━━━━━━╇━━━━━━━━━━━━━━━┩\n",
              "│ conv2d_2 (\u001b[38;5;33mConv2D\u001b[0m)               │ (\u001b[38;5;45mNone\u001b[0m, \u001b[38;5;34m26\u001b[0m, \u001b[38;5;34m26\u001b[0m, \u001b[38;5;34m32\u001b[0m)     │           \u001b[38;5;34m320\u001b[0m │\n",
              "├─────────────────────────────────┼────────────────────────┼───────────────┤\n",
              "│ max_pooling2d_2 (\u001b[38;5;33mMaxPooling2D\u001b[0m)  │ (\u001b[38;5;45mNone\u001b[0m, \u001b[38;5;34m13\u001b[0m, \u001b[38;5;34m13\u001b[0m, \u001b[38;5;34m32\u001b[0m)     │             \u001b[38;5;34m0\u001b[0m │\n",
              "├─────────────────────────────────┼────────────────────────┼───────────────┤\n",
              "│ conv2d_3 (\u001b[38;5;33mConv2D\u001b[0m)               │ (\u001b[38;5;45mNone\u001b[0m, \u001b[38;5;34m11\u001b[0m, \u001b[38;5;34m11\u001b[0m, \u001b[38;5;34m64\u001b[0m)     │        \u001b[38;5;34m18,496\u001b[0m │\n",
              "├─────────────────────────────────┼────────────────────────┼───────────────┤\n",
              "│ max_pooling2d_3 (\u001b[38;5;33mMaxPooling2D\u001b[0m)  │ (\u001b[38;5;45mNone\u001b[0m, \u001b[38;5;34m5\u001b[0m, \u001b[38;5;34m5\u001b[0m, \u001b[38;5;34m64\u001b[0m)       │             \u001b[38;5;34m0\u001b[0m │\n",
              "├─────────────────────────────────┼────────────────────────┼───────────────┤\n",
              "│ flatten_1 (\u001b[38;5;33mFlatten\u001b[0m)             │ (\u001b[38;5;45mNone\u001b[0m, \u001b[38;5;34m1600\u001b[0m)           │             \u001b[38;5;34m0\u001b[0m │\n",
              "├─────────────────────────────────┼────────────────────────┼───────────────┤\n",
              "│ dropout_1 (\u001b[38;5;33mDropout\u001b[0m)             │ (\u001b[38;5;45mNone\u001b[0m, \u001b[38;5;34m1600\u001b[0m)           │             \u001b[38;5;34m0\u001b[0m │\n",
              "├─────────────────────────────────┼────────────────────────┼───────────────┤\n",
              "│ dense (\u001b[38;5;33mDense\u001b[0m)                   │ (\u001b[38;5;45mNone\u001b[0m, \u001b[38;5;34m10\u001b[0m)             │        \u001b[38;5;34m16,010\u001b[0m │\n",
              "└─────────────────────────────────┴────────────────────────┴───────────────┘\n"
            ],
            "text/html": [
              "<pre style=\"white-space:pre;overflow-x:auto;line-height:normal;font-family:Menlo,'DejaVu Sans Mono',consolas,'Courier New',monospace\">┏━━━━━━━━━━━━━━━━━━━━━━━━━━━━━━━━━┳━━━━━━━━━━━━━━━━━━━━━━━━┳━━━━━━━━━━━━━━━┓\n",
              "┃<span style=\"font-weight: bold\"> Layer (type)                    </span>┃<span style=\"font-weight: bold\"> Output Shape           </span>┃<span style=\"font-weight: bold\">       Param # </span>┃\n",
              "┡━━━━━━━━━━━━━━━━━━━━━━━━━━━━━━━━━╇━━━━━━━━━━━━━━━━━━━━━━━━╇━━━━━━━━━━━━━━━┩\n",
              "│ conv2d_2 (<span style=\"color: #0087ff; text-decoration-color: #0087ff\">Conv2D</span>)               │ (<span style=\"color: #00d7ff; text-decoration-color: #00d7ff\">None</span>, <span style=\"color: #00af00; text-decoration-color: #00af00\">26</span>, <span style=\"color: #00af00; text-decoration-color: #00af00\">26</span>, <span style=\"color: #00af00; text-decoration-color: #00af00\">32</span>)     │           <span style=\"color: #00af00; text-decoration-color: #00af00\">320</span> │\n",
              "├─────────────────────────────────┼────────────────────────┼───────────────┤\n",
              "│ max_pooling2d_2 (<span style=\"color: #0087ff; text-decoration-color: #0087ff\">MaxPooling2D</span>)  │ (<span style=\"color: #00d7ff; text-decoration-color: #00d7ff\">None</span>, <span style=\"color: #00af00; text-decoration-color: #00af00\">13</span>, <span style=\"color: #00af00; text-decoration-color: #00af00\">13</span>, <span style=\"color: #00af00; text-decoration-color: #00af00\">32</span>)     │             <span style=\"color: #00af00; text-decoration-color: #00af00\">0</span> │\n",
              "├─────────────────────────────────┼────────────────────────┼───────────────┤\n",
              "│ conv2d_3 (<span style=\"color: #0087ff; text-decoration-color: #0087ff\">Conv2D</span>)               │ (<span style=\"color: #00d7ff; text-decoration-color: #00d7ff\">None</span>, <span style=\"color: #00af00; text-decoration-color: #00af00\">11</span>, <span style=\"color: #00af00; text-decoration-color: #00af00\">11</span>, <span style=\"color: #00af00; text-decoration-color: #00af00\">64</span>)     │        <span style=\"color: #00af00; text-decoration-color: #00af00\">18,496</span> │\n",
              "├─────────────────────────────────┼────────────────────────┼───────────────┤\n",
              "│ max_pooling2d_3 (<span style=\"color: #0087ff; text-decoration-color: #0087ff\">MaxPooling2D</span>)  │ (<span style=\"color: #00d7ff; text-decoration-color: #00d7ff\">None</span>, <span style=\"color: #00af00; text-decoration-color: #00af00\">5</span>, <span style=\"color: #00af00; text-decoration-color: #00af00\">5</span>, <span style=\"color: #00af00; text-decoration-color: #00af00\">64</span>)       │             <span style=\"color: #00af00; text-decoration-color: #00af00\">0</span> │\n",
              "├─────────────────────────────────┼────────────────────────┼───────────────┤\n",
              "│ flatten_1 (<span style=\"color: #0087ff; text-decoration-color: #0087ff\">Flatten</span>)             │ (<span style=\"color: #00d7ff; text-decoration-color: #00d7ff\">None</span>, <span style=\"color: #00af00; text-decoration-color: #00af00\">1600</span>)           │             <span style=\"color: #00af00; text-decoration-color: #00af00\">0</span> │\n",
              "├─────────────────────────────────┼────────────────────────┼───────────────┤\n",
              "│ dropout_1 (<span style=\"color: #0087ff; text-decoration-color: #0087ff\">Dropout</span>)             │ (<span style=\"color: #00d7ff; text-decoration-color: #00d7ff\">None</span>, <span style=\"color: #00af00; text-decoration-color: #00af00\">1600</span>)           │             <span style=\"color: #00af00; text-decoration-color: #00af00\">0</span> │\n",
              "├─────────────────────────────────┼────────────────────────┼───────────────┤\n",
              "│ dense (<span style=\"color: #0087ff; text-decoration-color: #0087ff\">Dense</span>)                   │ (<span style=\"color: #00d7ff; text-decoration-color: #00d7ff\">None</span>, <span style=\"color: #00af00; text-decoration-color: #00af00\">10</span>)             │        <span style=\"color: #00af00; text-decoration-color: #00af00\">16,010</span> │\n",
              "└─────────────────────────────────┴────────────────────────┴───────────────┘\n",
              "</pre>\n"
            ]
          },
          "metadata": {}
        },
        {
          "output_type": "display_data",
          "data": {
            "text/plain": [
              "\u001b[1m Total params: \u001b[0m\u001b[38;5;34m34,826\u001b[0m (136.04 KB)\n"
            ],
            "text/html": [
              "<pre style=\"white-space:pre;overflow-x:auto;line-height:normal;font-family:Menlo,'DejaVu Sans Mono',consolas,'Courier New',monospace\"><span style=\"font-weight: bold\"> Total params: </span><span style=\"color: #00af00; text-decoration-color: #00af00\">34,826</span> (136.04 KB)\n",
              "</pre>\n"
            ]
          },
          "metadata": {}
        },
        {
          "output_type": "display_data",
          "data": {
            "text/plain": [
              "\u001b[1m Trainable params: \u001b[0m\u001b[38;5;34m34,826\u001b[0m (136.04 KB)\n"
            ],
            "text/html": [
              "<pre style=\"white-space:pre;overflow-x:auto;line-height:normal;font-family:Menlo,'DejaVu Sans Mono',consolas,'Courier New',monospace\"><span style=\"font-weight: bold\"> Trainable params: </span><span style=\"color: #00af00; text-decoration-color: #00af00\">34,826</span> (136.04 KB)\n",
              "</pre>\n"
            ]
          },
          "metadata": {}
        },
        {
          "output_type": "display_data",
          "data": {
            "text/plain": [
              "\u001b[1m Non-trainable params: \u001b[0m\u001b[38;5;34m0\u001b[0m (0.00 B)\n"
            ],
            "text/html": [
              "<pre style=\"white-space:pre;overflow-x:auto;line-height:normal;font-family:Menlo,'DejaVu Sans Mono',consolas,'Courier New',monospace\"><span style=\"font-weight: bold\"> Non-trainable params: </span><span style=\"color: #00af00; text-decoration-color: #00af00\">0</span> (0.00 B)\n",
              "</pre>\n"
            ]
          },
          "metadata": {}
        }
      ]
    },
    {
      "cell_type": "code",
      "source": [
        "model.compile(optimizer=\"adam\", loss=\"categorical_crossentropy\", metrics=[\"accuracy\"])"
      ],
      "metadata": {
        "id": "JgsLYasZOauZ"
      },
      "execution_count": 51,
      "outputs": []
    },
    {
      "cell_type": "code",
      "source": [
        "hist = model.fit(\n",
        "    xtrain_pre, ytrain_pre, epochs=15, validation_split=0.1, batch_size=128\n",
        ")"
      ],
      "metadata": {
        "colab": {
          "base_uri": "https://localhost:8080/"
        },
        "id": "wA5bKmqhO9Fv",
        "outputId": "46bef9b8-b2d0-4702-afbc-978a2b9c92f9"
      },
      "execution_count": 52,
      "outputs": [
        {
          "output_type": "stream",
          "name": "stdout",
          "text": [
            "Epoch 1/15\n",
            "\u001b[1m422/422\u001b[0m \u001b[32m━━━━━━━━━━━━━━━━━━━━\u001b[0m\u001b[37m\u001b[0m \u001b[1m11s\u001b[0m 14ms/step - accuracy: 0.7575 - loss: 0.7617 - val_accuracy: 0.9770 - val_loss: 0.0824\n",
            "Epoch 2/15\n",
            "\u001b[1m422/422\u001b[0m \u001b[32m━━━━━━━━━━━━━━━━━━━━\u001b[0m\u001b[37m\u001b[0m \u001b[1m2s\u001b[0m 4ms/step - accuracy: 0.9612 - loss: 0.1286 - val_accuracy: 0.9835 - val_loss: 0.0570\n",
            "Epoch 3/15\n",
            "\u001b[1m422/422\u001b[0m \u001b[32m━━━━━━━━━━━━━━━━━━━━\u001b[0m\u001b[37m\u001b[0m \u001b[1m2s\u001b[0m 4ms/step - accuracy: 0.9743 - loss: 0.0857 - val_accuracy: 0.9857 - val_loss: 0.0473\n",
            "Epoch 4/15\n",
            "\u001b[1m422/422\u001b[0m \u001b[32m━━━━━━━━━━━━━━━━━━━━\u001b[0m\u001b[37m\u001b[0m \u001b[1m2s\u001b[0m 4ms/step - accuracy: 0.9770 - loss: 0.0780 - val_accuracy: 0.9877 - val_loss: 0.0437\n",
            "Epoch 5/15\n",
            "\u001b[1m422/422\u001b[0m \u001b[32m━━━━━━━━━━━━━━━━━━━━\u001b[0m\u001b[37m\u001b[0m \u001b[1m3s\u001b[0m 4ms/step - accuracy: 0.9811 - loss: 0.0601 - val_accuracy: 0.9892 - val_loss: 0.0398\n",
            "Epoch 6/15\n",
            "\u001b[1m422/422\u001b[0m \u001b[32m━━━━━━━━━━━━━━━━━━━━\u001b[0m\u001b[37m\u001b[0m \u001b[1m3s\u001b[0m 5ms/step - accuracy: 0.9823 - loss: 0.0557 - val_accuracy: 0.9905 - val_loss: 0.0354\n",
            "Epoch 7/15\n",
            "\u001b[1m422/422\u001b[0m \u001b[32m━━━━━━━━━━━━━━━━━━━━\u001b[0m\u001b[37m\u001b[0m \u001b[1m2s\u001b[0m 4ms/step - accuracy: 0.9841 - loss: 0.0501 - val_accuracy: 0.9913 - val_loss: 0.0340\n",
            "Epoch 8/15\n",
            "\u001b[1m422/422\u001b[0m \u001b[32m━━━━━━━━━━━━━━━━━━━━\u001b[0m\u001b[37m\u001b[0m \u001b[1m3s\u001b[0m 4ms/step - accuracy: 0.9853 - loss: 0.0454 - val_accuracy: 0.9900 - val_loss: 0.0336\n",
            "Epoch 9/15\n",
            "\u001b[1m422/422\u001b[0m \u001b[32m━━━━━━━━━━━━━━━━━━━━\u001b[0m\u001b[37m\u001b[0m \u001b[1m3s\u001b[0m 4ms/step - accuracy: 0.9869 - loss: 0.0439 - val_accuracy: 0.9915 - val_loss: 0.0330\n",
            "Epoch 10/15\n",
            "\u001b[1m422/422\u001b[0m \u001b[32m━━━━━━━━━━━━━━━━━━━━\u001b[0m\u001b[37m\u001b[0m \u001b[1m2s\u001b[0m 4ms/step - accuracy: 0.9864 - loss: 0.0424 - val_accuracy: 0.9923 - val_loss: 0.0280\n",
            "Epoch 11/15\n",
            "\u001b[1m422/422\u001b[0m \u001b[32m━━━━━━━━━━━━━━━━━━━━\u001b[0m\u001b[37m\u001b[0m \u001b[1m3s\u001b[0m 5ms/step - accuracy: 0.9879 - loss: 0.0376 - val_accuracy: 0.9932 - val_loss: 0.0293\n",
            "Epoch 12/15\n",
            "\u001b[1m422/422\u001b[0m \u001b[32m━━━━━━━━━━━━━━━━━━━━\u001b[0m\u001b[37m\u001b[0m \u001b[1m2s\u001b[0m 4ms/step - accuracy: 0.9879 - loss: 0.0367 - val_accuracy: 0.9922 - val_loss: 0.0287\n",
            "Epoch 13/15\n",
            "\u001b[1m422/422\u001b[0m \u001b[32m━━━━━━━━━━━━━━━━━━━━\u001b[0m\u001b[37m\u001b[0m \u001b[1m2s\u001b[0m 4ms/step - accuracy: 0.9883 - loss: 0.0361 - val_accuracy: 0.9920 - val_loss: 0.0283\n",
            "Epoch 14/15\n",
            "\u001b[1m422/422\u001b[0m \u001b[32m━━━━━━━━━━━━━━━━━━━━\u001b[0m\u001b[37m\u001b[0m \u001b[1m2s\u001b[0m 4ms/step - accuracy: 0.9896 - loss: 0.0327 - val_accuracy: 0.9925 - val_loss: 0.0273\n",
            "Epoch 15/15\n",
            "\u001b[1m422/422\u001b[0m \u001b[32m━━━━━━━━━━━━━━━━━━━━\u001b[0m\u001b[37m\u001b[0m \u001b[1m2s\u001b[0m 4ms/step - accuracy: 0.9894 - loss: 0.0322 - val_accuracy: 0.9927 - val_loss: 0.0281\n"
          ]
        }
      ]
    },
    {
      "cell_type": "markdown",
      "source": [
        "# Plot the learning curve"
      ],
      "metadata": {
        "id": "rvL-MfsrP0A3"
      }
    },
    {
      "cell_type": "code",
      "source": [
        "model.evaluate(xtrain_pre, ytrain_pre)"
      ],
      "metadata": {
        "colab": {
          "base_uri": "https://localhost:8080/"
        },
        "id": "P28EkpWUPmhF",
        "outputId": "40e243c9-ae02-4fbd-f625-f1baab3a5118"
      },
      "execution_count": 53,
      "outputs": [
        {
          "output_type": "stream",
          "name": "stdout",
          "text": [
            "\u001b[1m1875/1875\u001b[0m \u001b[32m━━━━━━━━━━━━━━━━━━━━\u001b[0m\u001b[37m\u001b[0m \u001b[1m5s\u001b[0m 2ms/step - accuracy: 0.9956 - loss: 0.0148\n"
          ]
        },
        {
          "output_type": "execute_result",
          "data": {
            "text/plain": [
              "[0.016028689220547676, 0.9954333305358887]"
            ]
          },
          "metadata": {},
          "execution_count": 53
        }
      ]
    },
    {
      "cell_type": "code",
      "source": [
        "model.evaluate(xtest_pre, ytest_pre)"
      ],
      "metadata": {
        "colab": {
          "base_uri": "https://localhost:8080/"
        },
        "id": "41kn0kBPP4kV",
        "outputId": "a63a84ef-d687-405c-9593-d5c4b7e9dc15"
      },
      "execution_count": 54,
      "outputs": [
        {
          "output_type": "stream",
          "name": "stdout",
          "text": [
            "\u001b[1m313/313\u001b[0m \u001b[32m━━━━━━━━━━━━━━━━━━━━\u001b[0m\u001b[37m\u001b[0m \u001b[1m2s\u001b[0m 5ms/step - accuracy: 0.9892 - loss: 0.0290\n"
          ]
        },
        {
          "output_type": "execute_result",
          "data": {
            "text/plain": [
              "[0.024708988144993782, 0.9911999702453613]"
            ]
          },
          "metadata": {},
          "execution_count": 54
        }
      ]
    },
    {
      "cell_type": "code",
      "source": [
        "import matplotlib.pyplot as plt\n",
        "\n",
        "plt.figure(figsize=(12, 6))\n",
        "plt.plot(hist.history[\"loss\"], label=\"Train Loss\")\n",
        "plt.plot(hist.history[\"val_loss\"], label = \"Val Loss\")\n",
        "plt.xlabel(\"Epochs\")\n",
        "plt.ylabel(\"Loss\")\n",
        "plt.title(\"Learning Curve\")\n",
        "plt.legend()\n",
        "plt.show()"
      ],
      "metadata": {
        "colab": {
          "base_uri": "https://localhost:8080/",
          "height": 564
        },
        "id": "5g3-QHHCP9vL",
        "outputId": "6992bf25-466d-4bbc-dc47-d03ddcb18887"
      },
      "execution_count": 55,
      "outputs": [
        {
          "output_type": "display_data",
          "data": {
            "text/plain": [
              "<Figure size 1200x600 with 1 Axes>"
            ],
            "image/png": "[encoded data removed]"
          },
          "metadata": {}
        }
      ]
    },
    {
      "cell_type": "markdown",
      "source": [
        "# Evaluate model in detail"
      ],
      "metadata": {
        "id": "HyJe2uIUQkak"
      }
    },
    {
      "cell_type": "code",
      "source": [
        "yprob_test = model.predict(xtest_pre)\n",
        "yprob_test[0:5]"
      ],
      "metadata": {
        "colab": {
          "base_uri": "https://localhost:8080/"
        },
        "id": "vYKKTJFnQY0J",
        "outputId": "600c183d-4c33-4554-d95d-cd8569b74728"
      },
      "execution_count": 60,
      "outputs": [
        {
          "output_type": "stream",
          "name": "stdout",
          "text": [
            "\u001b[1m313/313\u001b[0m \u001b[32m━━━━━━━━━━━━━━━━━━━━\u001b[0m\u001b[37m\u001b[0m \u001b[1m1s\u001b[0m 2ms/step\n"
          ]
        },
        {
          "output_type": "execute_result",
          "data": {
            "text/plain": [
              "array([[6.50257226e-09, 3.05650816e-09, 7.00684359e-06, 5.47696663e-06,\n",
              "        2.64168396e-12, 4.71705563e-10, 2.12591527e-15, 9.99987125e-01,\n",
              "        1.21347172e-08, 3.18137694e-07],\n",
              "       [1.77015500e-06, 4.69043744e-06, 9.99989986e-01, 1.04771791e-09,\n",
              "        1.90249327e-11, 2.09699810e-11, 3.26615691e-06, 1.45160425e-10,\n",
              "        3.76356894e-07, 9.80287726e-12],\n",
              "       [1.72406445e-07, 9.99890208e-01, 4.63113201e-06, 5.92423390e-08,\n",
              "        7.86125383e-05, 8.35232299e-07, 2.23506731e-06, 1.97764530e-05,\n",
              "        2.92535651e-06, 4.86683746e-07],\n",
              "       [9.99652386e-01, 2.17152199e-11, 8.41594465e-06, 9.10051234e-09,\n",
              "        1.13779954e-08, 1.11405404e-06, 3.34403274e-04, 1.83745676e-08,\n",
              "        2.07276594e-06, 1.69705538e-06],\n",
              "       [7.19660553e-09, 4.76432938e-09, 1.19721317e-08, 2.21042989e-10,\n",
              "        9.99950647e-01, 3.72676029e-10, 1.05584785e-08, 1.50466718e-07,\n",
              "        9.17132397e-08, 4.91029496e-05]], dtype=float32)"
            ]
          },
          "metadata": {},
          "execution_count": 60
        }
      ]
    },
    {
      "cell_type": "code",
      "source": [
        "import numpy as np\n",
        "ypred_test = np.argmax(yprob_test, axis=1)\n",
        "ypred_test[0:5]"
      ],
      "metadata": {
        "colab": {
          "base_uri": "https://localhost:8080/"
        },
        "id": "xjqrkZLgQrm4",
        "outputId": "02be7c17-98f5-495c-da56-b0c5713909ab"
      },
      "execution_count": 61,
      "outputs": [
        {
          "output_type": "execute_result",
          "data": {
            "text/plain": [
              "array([7, 2, 1, 0, 4])"
            ]
          },
          "metadata": {},
          "execution_count": 61
        }
      ]
    },
    {
      "cell_type": "code",
      "source": [
        "ytest[0:5]"
      ],
      "metadata": {
        "colab": {
          "base_uri": "https://localhost:8080/"
        },
        "id": "t5AnTqhCRGv1",
        "outputId": "8661e459-9066-4e83-dde0-b76448f2e384"
      },
      "execution_count": 62,
      "outputs": [
        {
          "output_type": "execute_result",
          "data": {
            "text/plain": [
              "array([7, 2, 1, 0, 4], dtype=uint8)"
            ]
          },
          "metadata": {},
          "execution_count": 62
        }
      ]
    },
    {
      "cell_type": "code",
      "source": [
        "from sklearn.metrics import ConfusionMatrixDisplay\n",
        "\n",
        "ConfusionMatrixDisplay.from_predictions(ytest, ypred_test)"
      ],
      "metadata": {
        "colab": {
          "base_uri": "https://localhost:8080/",
          "height": 467
        },
        "id": "j6tMJicORJaF",
        "outputId": "2424d173-b9a7-4444-a564-482fceedb926"
      },
      "execution_count": 63,
      "outputs": [
        {
          "output_type": "execute_result",
          "data": {
            "text/plain": [
              "<sklearn.metrics._plot.confusion_matrix.ConfusionMatrixDisplay at 0x7fa75ea95a90>"
            ]
          },
          "metadata": {},
          "execution_count": 63
        },
        {
          "output_type": "display_data",
          "data": {
            "text/plain": [
              "<Figure size 640x480 with 2 Axes>"
            ],
            "image/png": "[encoded data removed]"
          },
          "metadata": {}
        }
      ]
    },
    {
      "cell_type": "code",
      "source": [
        "from sklearn.metrics import classification_report\n",
        "\n",
        "print(classification_report(ytest, ypred_test))"
      ],
      "metadata": {
        "colab": {
          "base_uri": "https://localhost:8080/"
        },
        "id": "E_LI2mpmRVwm",
        "outputId": "1d641e85-c644-4669-e881-97354804bef5"
      },
      "execution_count": 64,
      "outputs": [
        {
          "output_type": "stream",
          "name": "stdout",
          "text": [
            "              precision    recall  f1-score   support\n",
            "\n",
            "           0       0.99      1.00      0.99       980\n",
            "           1       0.99      1.00      1.00      1135\n",
            "           2       0.99      0.99      0.99      1032\n",
            "           3       1.00      0.99      0.99      1010\n",
            "           4       1.00      0.99      0.99       982\n",
            "           5       0.99      0.99      0.99       892\n",
            "           6       1.00      0.99      0.99       958\n",
            "           7       0.99      0.99      0.99      1028\n",
            "           8       0.99      0.99      0.99       974\n",
            "           9       0.99      0.99      0.99      1009\n",
            "\n",
            "    accuracy                           0.99     10000\n",
            "   macro avg       0.99      0.99      0.99     10000\n",
            "weighted avg       0.99      0.99      0.99     10000\n",
            "\n"
          ]
        }
      ]
    },
    {
      "cell_type": "markdown",
      "source": [
        "# above model is good as it has very less missclassifications and f1_macro > 0.8"
      ],
      "metadata": {
        "id": "rH6uELziRxNj"
      }
    },
    {
      "cell_type": "markdown",
      "source": [
        "# Out of sample prediction"
      ],
      "metadata": {
        "id": "dg7x6jaPSB3S"
      }
    },
    {
      "cell_type": "code",
      "source": [
        "import cv2\n",
        "\n",
        "img1 = cv2.imread(\"/content/img_4.jpg\", cv2.IMREAD_GRAYSCALE)\n",
        "img1"
      ],
      "metadata": {
        "colab": {
          "base_uri": "https://localhost:8080/",
          "height": 1000
        },
        "id": "1od_N4AORpKL",
        "outputId": "313415be-8045-42e3-89ee-0507c26d7f0e"
      },
      "execution_count": 65,
      "outputs": [
        {
          "output_type": "execute_result",
          "data": {
            "text/plain": [
              "array([[  0,   0,   2,   0,   1,   0,   1,   0,   0,   4,   1,   2,   0,\n",
              "          0,   0,   2,   0,   0,   0,   0,   0,   0,   0,   0,   0,   0,\n",
              "          0,   0],\n",
              "       [  0,   0,   0,   4,   0,   3,   1,   0,   0,   4,   0,   0,   2,\n",
              "          1,   2,   0,   0,   0,   0,   0,   0,   0,   0,   0,   0,   0,\n",
              "          0,   0],\n",
              "       [  3,   0,   3,   0,   5,   0,   0,   2,   4,   2,   5,   2,   0,\n",
              "          0,   1,   5,   0,   0,   0,   0,   0,   0,   0,   0,   0,   0,\n",
              "          0,   0],\n",
              "       [  3,   0,   5,   3,   0,   0,  79, 190,  97,   0,   0,   1,   2,\n",
              "          0,   3,   0,   0,   0,   0,   0,   0,   0,   0,   0,   0,   0,\n",
              "          0,   0],\n",
              "       [  0,   0,   1,   0,   2,   0, 227, 250, 246,   8,   0,   3,   0,\n",
              "          1,   5,   0,   0,   0,   0,   0,   0,   0,   0,   0,   0,   0,\n",
              "          0,   0],\n",
              "       [  2,   1,   1,   1,   0,   0, 255, 255, 255,   0,   1,   3,   2,\n",
              "          2,   0,   3,   0,   0,   0,   0,   0,   0,   0,   0,   0,   0,\n",
              "          0,   0],\n",
              "       [  4,   0,   6,   2,   0,   6, 250, 255, 255,   5,   4,   0,   0,\n",
              "          4,   0,   5,   0,   0,   0,   0,   0,   0,   0,   0,   0,   0,\n",
              "          0,   0],\n",
              "       [  0,   3,   0,   0,   5,  70, 255, 255, 254,   1,   0,   8,   0,\n",
              "          2,   5,   0,   0,   0,   0,   0,   0,   0,   0,   0,   0,   0,\n",
              "          0,   0],\n",
              "       [  0,   2,   2,   1,   0, 236, 254, 254, 252,   0,   0,   0,   3,\n",
              "          0,   3,   0,   1,   0,   3,   0,   4,   3,   0,   1,   0,   0,\n",
              "          0,   0],\n",
              "       [  2,   4,   0,   4,   0, 249, 255, 255, 157,   0,   0,   3,   0,\n",
              "         76, 185,  98,   0,   0,   4,   1,   1,   0,   1,   1,   0,   0,\n",
              "          0,   0],\n",
              "       [  2,   3,   0,   3,   0, 255, 255, 255,   0,   1,   0,   0,   4,\n",
              "        230, 255, 245,   0,   5,   0,   0,   3,   0,   4,   0,   0,   0,\n",
              "          0,   0],\n",
              "       [  0,   0,   2,   0,   0, 254, 254, 254,   4,   2,   0,   5,   0,\n",
              "        255, 255, 253,   3,   0,   1,   7,   1,   3,   0,   4,   0,   0,\n",
              "          0,   0],\n",
              "       [  0,   0,   4,   1,   0, 255, 254, 255,   0,   1,   0,   2,   6,\n",
              "        255, 253, 255,   0,   1,   0,   1,   0,   1,   3,   0,   0,   0,\n",
              "          0,   0],\n",
              "       [  0,   0,   0,   2,   0, 255, 255, 255,   1,  99, 224, 249, 251,\n",
              "        255, 250, 254, 252, 255, 255, 254, 224,  94,   0,   0,   0,   0,\n",
              "          0,   0],\n",
              "       [  0,   0,   0,   1,   0, 255, 255, 255, 255, 255, 252, 255, 254,\n",
              "        252, 255, 255, 255, 254, 252, 254, 252, 245,   1,   1,   0,   0,\n",
              "          0,   0],\n",
              "       [  0,   0,   4,   0,   2, 247, 255, 255, 254, 248, 254, 255, 255,\n",
              "        255, 255, 252, 255, 255, 254, 255, 255, 151,   0,   2,   0,   0,\n",
              "          0,   0],\n",
              "       [  1,   0,   2,   0,   1, 118, 255, 251, 254, 255, 167,   6,   2,\n",
              "        255, 255, 255,   0,   0,   0,   0,   0,   0,   0,   0,   0,   0,\n",
              "          0,   0],\n",
              "       [  0,   4,   0,   2,   2,   0,   4,   2,   3,   0,   0,   5,  70,\n",
              "        255, 252, 251,   0,   0,   0,   0,   0,   0,   0,   0,   0,   0,\n",
              "          0,   0],\n",
              "       [  3,   0,   1,   0,   0,   1,   0,   0,   0,   0,   1,   1, 230,\n",
              "        255, 255, 255,   0,   0,   0,   0,   0,   0,   0,   0,   0,   0,\n",
              "          0,   0],\n",
              "       [  0,   0,   4,   0,   0,   2,   1,   6,   0,   5,   0,   0, 251,\n",
              "        255, 248, 148,   0,   0,   0,   0,   0,   0,   0,   0,   0,   0,\n",
              "          0,   0],\n",
              "       [  0,   1,   0,   0,   4,   0,   0,   1,   6,   0,   1,   0, 255,\n",
              "        251, 255,   6,   0,   0,   0,   0,   0,   0,   0,   0,   0,   0,\n",
              "          0,   0],\n",
              "       [  2,   1,   0,   2,   0,   1,   9,   0,   0,   5,   1,   0, 255,\n",
              "        255, 254,   0,   0,   0,   0,   0,   0,   0,   0,   0,   0,   0,\n",
              "          0,   0],\n",
              "       [  1,   2,   0,   1,   3,   0,   0,   4,   3,   0,   0,   5, 244,\n",
              "        251, 255,   1,   0,   0,   0,   0,   0,   0,   0,   0,   0,   0,\n",
              "          0,   0],\n",
              "       [  0,   0,   1,   0,   1,   3,   0,   0,   0,   3,   0,   1, 127,\n",
              "        252, 147,   1,   0,   0,   0,   0,   0,   0,   0,   0,   0,   0,\n",
              "          0,   0],\n",
              "       [  0,   0,   0,   0,   0,   0,   0,   0,   0,   0,   0,   0,   0,\n",
              "          0,   0,   0,   0,   0,   0,   0,   0,   0,   0,   0,   0,   0,\n",
              "          0,   0],\n",
              "       [  0,   0,   0,   0,   0,   0,   0,   0,   0,   0,   0,   0,   0,\n",
              "          0,   0,   0,   0,   0,   0,   0,   0,   0,   0,   0,   0,   0,\n",
              "          0,   0],\n",
              "       [  0,   0,   0,   0,   0,   0,   0,   0,   0,   0,   0,   0,   0,\n",
              "          0,   0,   0,   0,   0,   0,   0,   0,   0,   0,   0,   0,   0,\n",
              "          0,   0],\n",
              "       [  0,   0,   0,   0,   0,   0,   0,   0,   0,   0,   0,   0,   0,\n",
              "          0,   0,   0,   0,   0,   0,   0,   0,   0,   0,   0,   0,   0,\n",
              "          0,   0]], dtype=uint8)"
            ],
            "text/html": [
              "<style>\n",
              "      .ndarray_repr .ndarray_raw_data {\n",
              "        display: none;\n",
              "      }\n",
              "      .ndarray_repr.show_array .ndarray_raw_data {\n",
              "        display: block;\n",
              "      }\n",
              "      .ndarray_repr.show_array .ndarray_image_preview {\n",
              "        display: none;\n",
              "      }\n",
              "      </style>\n",
              "      <div id=\"id-9cfa2f04-3c11-4cf4-b233-d3b18d270c86\" class=\"ndarray_repr\"><pre>ndarray (28, 28) <button style=\"padding: 0 2px;\">show data</button></pre><img src=\"data:image/png;base64,iVBORw0KGgoAAAANSUhEUgAAABwAAAAcCAAAAABXZoBIAAABH0lEQVR4nL2SO04EQQxEX9ndA0iciwiJGyABdyDlEJCSkHAGEs6ChERECGiX2ekimGU/TY7TpyqXSwYCISgKIOimkIICoY4lSYUoUQNUO1gTzp4vQEH2riJ4/f46JHuhwmAMUpiW0w6McBXDCDWnFn3ahHpiN3FI7NtChHhvbbVOLpKSaGaFwtK+h+T06RKKhNYwSWwjKG/+pEJSNr7QWitBxZ4SHWhLi3AzIgZPRghtywhs6+plOfq7rez2cv5bD8gGmNItwS3a8hjPC4tjAV4GSiYUygdr06yuPTY/DuHZYzuFCErMRa3Grj3Nm5He/ijnFxioMHpxt8/mD9GA8Ohhv3cR6AiqsFsnDJRQEurHuD5h11c5J7tZ3fbw3+cHJX1qXGTHM4sAAAAASUVORK5CYII=\" class=\"ndarray_image_preview\" /><pre class=\"ndarray_raw_data\">array([[  0,   0,   2,   0,   1,   0,   1,   0,   0,   4,   1,   2,   0,\n",
              "          0,   0,   2,   0,   0,   0,   0,   0,   0,   0,   0,   0,   0,\n",
              "          0,   0],\n",
              "       [  0,   0,   0,   4,   0,   3,   1,   0,   0,   4,   0,   0,   2,\n",
              "          1,   2,   0,   0,   0,   0,   0,   0,   0,   0,   0,   0,   0,\n",
              "          0,   0],\n",
              "       [  3,   0,   3,   0,   5,   0,   0,   2,   4,   2,   5,   2,   0,\n",
              "          0,   1,   5,   0,   0,   0,   0,   0,   0,   0,   0,   0,   0,\n",
              "          0,   0],\n",
              "       [  3,   0,   5,   3,   0,   0,  79, 190,  97,   0,   0,   1,   2,\n",
              "          0,   3,   0,   0,   0,   0,   0,   0,   0,   0,   0,   0,   0,\n",
              "          0,   0],\n",
              "       [  0,   0,   1,   0,   2,   0, 227, 250, 246,   8,   0,   3,   0,\n",
              "          1,   5,   0,   0,   0,   0,   0,   0,   0,   0,   0,   0,   0,\n",
              "          0,   0],\n",
              "       [  2,   1,   1,   1,   0,   0, 255, 255, 255,   0,   1,   3,   2,\n",
              "          2,   0,   3,   0,   0,   0,   0,   0,   0,   0,   0,   0,   0,\n",
              "          0,   0],\n",
              "       [  4,   0,   6,   2,   0,   6, 250, 255, 255,   5,   4,   0,   0,\n",
              "          4,   0,   5,   0,   0,   0,   0,   0,   0,   0,   0,   0,   0,\n",
              "          0,   0],\n",
              "       [  0,   3,   0,   0,   5,  70, 255, 255, 254,   1,   0,   8,   0,\n",
              "          2,   5,   0,   0,   0,   0,   0,   0,   0,   0,   0,   0,   0,\n",
              "          0,   0],\n",
              "       [  0,   2,   2,   1,   0, 236, 254, 254, 252,   0,   0,   0,   3,\n",
              "          0,   3,   0,   1,   0,   3,   0,   4,   3,   0,   1,   0,   0,\n",
              "          0,   0],\n",
              "       [  2,   4,   0,   4,   0, 249, 255, 255, 157,   0,   0,   3,   0,\n",
              "         76, 185,  98,   0,   0,   4,   1,   1,   0,   1,   1,   0,   0,\n",
              "          0,   0],\n",
              "       [  2,   3,   0,   3,   0, 255, 255, 255,   0,   1,   0,   0,   4,\n",
              "        230, 255, 245,   0,   5,   0,   0,   3,   0,   4,   0,   0,   0,\n",
              "          0,   0],\n",
              "       [  0,   0,   2,   0,   0, 254, 254, 254,   4,   2,   0,   5,   0,\n",
              "        255, 255, 253,   3,   0,   1,   7,   1,   3,   0,   4,   0,   0,\n",
              "          0,   0],\n",
              "       [  0,   0,   4,   1,   0, 255, 254, 255,   0,   1,   0,   2,   6,\n",
              "        255, 253, 255,   0,   1,   0,   1,   0,   1,   3,   0,   0,   0,\n",
              "          0,   0],\n",
              "       [  0,   0,   0,   2,   0, 255, 255, 255,   1,  99, 224, 249, 251,\n",
              "        255, 250, 254, 252, 255, 255, 254, 224,  94,   0,   0,   0,   0,\n",
              "          0,   0],\n",
              "       [  0,   0,   0,   1,   0, 255, 255, 255, 255, 255, 252, 255, 254,\n",
              "        252, 255, 255, 255, 254, 252, 254, 252, 245,   1,   1,   0,   0,\n",
              "          0,   0],\n",
              "       [  0,   0,   4,   0,   2, 247, 255, 255, 254, 248, 254, 255, 255,\n",
              "        255, 255, 252, 255, 255, 254, 255, 255, 151,   0,   2,   0,   0,\n",
              "          0,   0],\n",
              "       [  1,   0,   2,   0,   1, 118, 255, 251, 254, 255, 167,   6,   2,\n",
              "        255, 255, 255,   0,   0,   0,   0,   0,   0,   0,   0,   0,   0,\n",
              "          0,   0],\n",
              "       [  0,   4,   0,   2,   2,   0,   4,   2,   3,   0,   0,   5,  70,\n",
              "        255, 252, 251,   0,   0,   0,   0,   0,   0,   0,   0,   0,   0,\n",
              "          0,   0],\n",
              "       [  3,   0,   1,   0,   0,   1,   0,   0,   0,   0,   1,   1, 230,\n",
              "        255, 255, 255,   0,   0,   0,   0,   0,   0,   0,   0,   0,   0,\n",
              "          0,   0],\n",
              "       [  0,   0,   4,   0,   0,   2,   1,   6,   0,   5,   0,   0, 251,\n",
              "        255, 248, 148,   0,   0,   0,   0,   0,   0,   0,   0,   0,   0,\n",
              "          0,   0],\n",
              "       [  0,   1,   0,   0,   4,   0,   0,   1,   6,   0,   1,   0, 255,\n",
              "        251, 255,   6,   0,   0,   0,   0,   0,   0,   0,   0,   0,   0,\n",
              "          0,   0],\n",
              "       [  2,   1,   0,   2,   0,   1,   9,   0,   0,   5,   1,   0, 255,\n",
              "        255, 254,   0,   0,   0,   0,   0,   0,   0,   0,   0,   0,   0,\n",
              "          0,   0],\n",
              "       [  1,   2,   0,   1,   3,   0,   0,   4,   3,   0,   0,   5, 244,\n",
              "        251, 255,   1,   0,   0,   0,   0,   0,   0,   0,   0,   0,   0,\n",
              "          0,   0],\n",
              "       [  0,   0,   1,   0,   1,   3,   0,   0,   0,   3,   0,   1, 127,\n",
              "        252, 147,   1,   0,   0,   0,   0,   0,   0,   0,   0,   0,   0,\n",
              "          0,   0],\n",
              "       [  0,   0,   0,   0,   0,   0,   0,   0,   0,   0,   0,   0,   0,\n",
              "          0,   0,   0,   0,   0,   0,   0,   0,   0,   0,   0,   0,   0,\n",
              "          0,   0],\n",
              "       [  0,   0,   0,   0,   0,   0,   0,   0,   0,   0,   0,   0,   0,\n",
              "          0,   0,   0,   0,   0,   0,   0,   0,   0,   0,   0,   0,   0,\n",
              "          0,   0],\n",
              "       [  0,   0,   0,   0,   0,   0,   0,   0,   0,   0,   0,   0,   0,\n",
              "          0,   0,   0,   0,   0,   0,   0,   0,   0,   0,   0,   0,   0,\n",
              "          0,   0],\n",
              "       [  0,   0,   0,   0,   0,   0,   0,   0,   0,   0,   0,   0,   0,\n",
              "          0,   0,   0,   0,   0,   0,   0,   0,   0,   0,   0,   0,   0,\n",
              "          0,   0]], dtype=uint8)</pre></div><script>\n",
              "      (() => {\n",
              "      const titles = ['show data', 'hide data'];\n",
              "      let index = 0\n",
              "      document.querySelector('#id-9cfa2f04-3c11-4cf4-b233-d3b18d270c86 button').onclick = (e) => {\n",
              "        document.querySelector('#id-9cfa2f04-3c11-4cf4-b233-d3b18d270c86').classList.toggle('show_array');\n",
              "        index = (++index) % 2;\n",
              "        document.querySelector('#id-9cfa2f04-3c11-4cf4-b233-d3b18d270c86 button').textContent = titles[index];\n",
              "        e.preventDefault();\n",
              "        e.stopPropagation();\n",
              "      }\n",
              "      })();\n",
              "    </script>"
            ]
          },
          "metadata": {},
          "execution_count": 65
        }
      ]
    },
    {
      "cell_type": "code",
      "source": [
        "import matplotlib.pyplot as plt\n",
        "\n",
        "plt.imshow(img1, cmap=\"gray\")"
      ],
      "metadata": {
        "colab": {
          "base_uri": "https://localhost:8080/",
          "height": 448
        },
        "id": "e-FCNzhGT7VL",
        "outputId": "5b4a47ca-1db3-45c5-96b8-09443f633874"
      },
      "execution_count": 67,
      "outputs": [
        {
          "output_type": "execute_result",
          "data": {
            "text/plain": [
              "<matplotlib.image.AxesImage at 0x7fa75a864e00>"
            ]
          },
          "metadata": {},
          "execution_count": 67
        },
        {
          "output_type": "display_data",
          "data": {
            "text/plain": [
              "<Figure size 640x480 with 1 Axes>"
            ],
            "image/png": "[encoded data removed]"
          },
          "metadata": {}
        }
      ]
    },
    {
      "cell_type": "code",
      "source": [
        "def predict_number(path: str):\n",
        "  img = cv2.imread(path, cv2.IMREAD_GRAYSCALE)\n",
        "  plt.imshow(img, cmap=\"gray\")\n",
        "  plt.show()\n",
        "  img_pre = img.astype(\"float32\") / 255\n",
        "  img_pre = img_pre.reshape(1, 28, 28, 1)\n",
        "  yprob = model.predict(img_pre)\n",
        "  ypred = np.argmax(yprob, axis=1)\n",
        "  max_prob = np.max(yprob, axis=1)\n",
        "  print(f\"Predicted number is {ypred[0]}\")\n",
        "  print(f\"Probability : {max_prob}\")"
      ],
      "metadata": {
        "id": "q8DbaFkTUCI0"
      },
      "execution_count": 74,
      "outputs": []
    },
    {
      "cell_type": "code",
      "source": [
        "predict_number(path=\"/content/img_4.jpg\")"
      ],
      "metadata": {
        "colab": {
          "base_uri": "https://localhost:8080/",
          "height": 485
        },
        "id": "0P5GUOmSUule",
        "outputId": "135e341f-8647-40ac-b455-19c8c389304e"
      },
      "execution_count": 75,
      "outputs": [
        {
          "output_type": "display_data",
          "data": {
            "text/plain": [
              "<Figure size 640x480 with 1 Axes>"
            ],
            "image/png": "[encoded data removed]"
          },
          "metadata": {}
        },
        {
          "output_type": "stream",
          "name": "stdout",
          "text": [
            "\u001b[1m1/1\u001b[0m \u001b[32m━━━━━━━━━━━━━━━━━━━━\u001b[0m\u001b[37m\u001b[0m \u001b[1m0s\u001b[0m 41ms/step\n",
            "Predicted number is 4\n",
            "Probability : [0.9999567]\n"
          ]
        }
      ]
    },
    {
      "cell_type": "code",
      "source": [
        "predict_number(path=\"/content/img_5.jpg\")"
      ],
      "metadata": {
        "colab": {
          "base_uri": "https://localhost:8080/",
          "height": 485
        },
        "id": "8n2gifegU5Ti",
        "outputId": "2a14e291-0c5a-4853-e10d-23397ad6ce18"
      },
      "execution_count": 76,
      "outputs": [
        {
          "output_type": "display_data",
          "data": {
            "text/plain": [
              "<Figure size 640x480 with 1 Axes>"
            ],
            "image/png": "[encoded data removed]"
          },
          "metadata": {}
        },
        {
          "output_type": "stream",
          "name": "stdout",
          "text": [
            "\u001b[1m1/1\u001b[0m \u001b[32m━━━━━━━━━━━━━━━━━━━━\u001b[0m\u001b[37m\u001b[0m \u001b[1m0s\u001b[0m 61ms/step\n",
            "Predicted number is 5\n",
            "Probability : [1.]\n"
          ]
        }
      ]
    },
    {
      "cell_type": "code",
      "source": [
        "predict_number(path=\"/content/img_7.jpg\")"
      ],
      "metadata": {
        "colab": {
          "base_uri": "https://localhost:8080/",
          "height": 485
        },
        "id": "oz4SjeT1VSG1",
        "outputId": "e84ffb2a-b871-4291-e6f0-67b269fd09bc"
      },
      "execution_count": 77,
      "outputs": [
        {
          "output_type": "display_data",
          "data": {
            "text/plain": [
              "<Figure size 640x480 with 1 Axes>"
            ],
            "image/png": "[encoded data removed]"
          },
          "metadata": {}
        },
        {
          "output_type": "stream",
          "name": "stdout",
          "text": [
            "\u001b[1m1/1\u001b[0m \u001b[32m━━━━━━━━━━━━━━━━━━━━\u001b[0m\u001b[37m\u001b[0m \u001b[1m0s\u001b[0m 56ms/step\n",
            "Predicted number is 7\n",
            "Probability : [0.9929149]\n"
          ]
        }
      ]
    },
    {
      "cell_type": "markdown",
      "source": [
        "# Save the model object"
      ],
      "metadata": {
        "id": "N6O5d-H5VzVp"
      }
    },
    {
      "cell_type": "code",
      "source": [
        "model.save(\"digit_model.keras\")"
      ],
      "metadata": {
        "id": "tR5cFhqLVZjW"
      },
      "execution_count": 78,
      "outputs": []
    },
    {
      "cell_type": "code",
      "source": [
        "from keras.models import load_model\n",
        "m = load_model(\"/content/digit_model.keras\")\n",
        "m.summary()"
      ],
      "metadata": {
        "colab": {
          "base_uri": "https://localhost:8080/",
          "height": 377
        },
        "id": "4kLIra3RV5jF",
        "outputId": "867e8910-5523-4f32-830e-9bd6cdb9f3bc"
      },
      "execution_count": 79,
      "outputs": [
        {
          "output_type": "display_data",
          "data": {
            "text/plain": [
              "\u001b[1mModel: \"sequential\"\u001b[0m\n"
            ],
            "text/html": [
              "<pre style=\"white-space:pre;overflow-x:auto;line-height:normal;font-family:Menlo,'DejaVu Sans Mono',consolas,'Courier New',monospace\"><span style=\"font-weight: bold\">Model: \"sequential\"</span>\n",
              "</pre>\n"
            ]
          },
          "metadata": {}
        },
        {
          "output_type": "display_data",
          "data": {
            "text/plain": [
              "┏━━━━━━━━━━━━━━━━━━━━━━━━━━━━━━━━━┳━━━━━━━━━━━━━━━━━━━━━━━━┳━━━━━━━━━━━━━━━┓\n",
              "┃\u001b[1m \u001b[0m\u001b[1mLayer (type)                   \u001b[0m\u001b[1m \u001b[0m┃\u001b[1m \u001b[0m\u001b[1mOutput Shape          \u001b[0m\u001b[1m \u001b[0m┃\u001b[1m \u001b[0m\u001b[1m      Param #\u001b[0m\u001b[1m \u001b[0m┃\n",
              "┡━━━━━━━━━━━━━━━━━━━━━━━━━━━━━━━━━╇━━━━━━━━━━━━━━━━━━━━━━━━╇━━━━━━━━━━━━━━━┩\n",
              "│ conv2d_2 (\u001b[38;5;33mConv2D\u001b[0m)               │ (\u001b[38;5;45mNone\u001b[0m, \u001b[38;5;34m26\u001b[0m, \u001b[38;5;34m26\u001b[0m, \u001b[38;5;34m32\u001b[0m)     │           \u001b[38;5;34m320\u001b[0m │\n",
              "├─────────────────────────────────┼────────────────────────┼───────────────┤\n",
              "│ max_pooling2d_2 (\u001b[38;5;33mMaxPooling2D\u001b[0m)  │ (\u001b[38;5;45mNone\u001b[0m, \u001b[38;5;34m13\u001b[0m, \u001b[38;5;34m13\u001b[0m, \u001b[38;5;34m32\u001b[0m)     │             \u001b[38;5;34m0\u001b[0m │\n",
              "├─────────────────────────────────┼────────────────────────┼───────────────┤\n",
              "│ conv2d_3 (\u001b[38;5;33mConv2D\u001b[0m)               │ (\u001b[38;5;45mNone\u001b[0m, \u001b[38;5;34m11\u001b[0m, \u001b[38;5;34m11\u001b[0m, \u001b[38;5;34m64\u001b[0m)     │        \u001b[38;5;34m18,496\u001b[0m │\n",
              "├─────────────────────────────────┼────────────────────────┼───────────────┤\n",
              "│ max_pooling2d_3 (\u001b[38;5;33mMaxPooling2D\u001b[0m)  │ (\u001b[38;5;45mNone\u001b[0m, \u001b[38;5;34m5\u001b[0m, \u001b[38;5;34m5\u001b[0m, \u001b[38;5;34m64\u001b[0m)       │             \u001b[38;5;34m0\u001b[0m │\n",
              "├─────────────────────────────────┼────────────────────────┼───────────────┤\n",
              "│ flatten_1 (\u001b[38;5;33mFlatten\u001b[0m)             │ (\u001b[38;5;45mNone\u001b[0m, \u001b[38;5;34m1600\u001b[0m)           │             \u001b[38;5;34m0\u001b[0m │\n",
              "├─────────────────────────────────┼────────────────────────┼───────────────┤\n",
              "│ dropout_1 (\u001b[38;5;33mDropout\u001b[0m)             │ (\u001b[38;5;45mNone\u001b[0m, \u001b[38;5;34m1600\u001b[0m)           │             \u001b[38;5;34m0\u001b[0m │\n",
              "├─────────────────────────────────┼────────────────────────┼───────────────┤\n",
              "│ dense (\u001b[38;5;33mDense\u001b[0m)                   │ (\u001b[38;5;45mNone\u001b[0m, \u001b[38;5;34m10\u001b[0m)             │        \u001b[38;5;34m16,010\u001b[0m │\n",
              "└─────────────────────────────────┴────────────────────────┴───────────────┘\n"
            ],
            "text/html": [
              "<pre style=\"white-space:pre;overflow-x:auto;line-height:normal;font-family:Menlo,'DejaVu Sans Mono',consolas,'Courier New',monospace\">┏━━━━━━━━━━━━━━━━━━━━━━━━━━━━━━━━━┳━━━━━━━━━━━━━━━━━━━━━━━━┳━━━━━━━━━━━━━━━┓\n",
              "┃<span style=\"font-weight: bold\"> Layer (type)                    </span>┃<span style=\"font-weight: bold\"> Output Shape           </span>┃<span style=\"font-weight: bold\">       Param # </span>┃\n",
              "┡━━━━━━━━━━━━━━━━━━━━━━━━━━━━━━━━━╇━━━━━━━━━━━━━━━━━━━━━━━━╇━━━━━━━━━━━━━━━┩\n",
              "│ conv2d_2 (<span style=\"color: #0087ff; text-decoration-color: #0087ff\">Conv2D</span>)               │ (<span style=\"color: #00d7ff; text-decoration-color: #00d7ff\">None</span>, <span style=\"color: #00af00; text-decoration-color: #00af00\">26</span>, <span style=\"color: #00af00; text-decoration-color: #00af00\">26</span>, <span style=\"color: #00af00; text-decoration-color: #00af00\">32</span>)     │           <span style=\"color: #00af00; text-decoration-color: #00af00\">320</span> │\n",
              "├─────────────────────────────────┼────────────────────────┼───────────────┤\n",
              "│ max_pooling2d_2 (<span style=\"color: #0087ff; text-decoration-color: #0087ff\">MaxPooling2D</span>)  │ (<span style=\"color: #00d7ff; text-decoration-color: #00d7ff\">None</span>, <span style=\"color: #00af00; text-decoration-color: #00af00\">13</span>, <span style=\"color: #00af00; text-decoration-color: #00af00\">13</span>, <span style=\"color: #00af00; text-decoration-color: #00af00\">32</span>)     │             <span style=\"color: #00af00; text-decoration-color: #00af00\">0</span> │\n",
              "├─────────────────────────────────┼────────────────────────┼───────────────┤\n",
              "│ conv2d_3 (<span style=\"color: #0087ff; text-decoration-color: #0087ff\">Conv2D</span>)               │ (<span style=\"color: #00d7ff; text-decoration-color: #00d7ff\">None</span>, <span style=\"color: #00af00; text-decoration-color: #00af00\">11</span>, <span style=\"color: #00af00; text-decoration-color: #00af00\">11</span>, <span style=\"color: #00af00; text-decoration-color: #00af00\">64</span>)     │        <span style=\"color: #00af00; text-decoration-color: #00af00\">18,496</span> │\n",
              "├─────────────────────────────────┼────────────────────────┼───────────────┤\n",
              "│ max_pooling2d_3 (<span style=\"color: #0087ff; text-decoration-color: #0087ff\">MaxPooling2D</span>)  │ (<span style=\"color: #00d7ff; text-decoration-color: #00d7ff\">None</span>, <span style=\"color: #00af00; text-decoration-color: #00af00\">5</span>, <span style=\"color: #00af00; text-decoration-color: #00af00\">5</span>, <span style=\"color: #00af00; text-decoration-color: #00af00\">64</span>)       │             <span style=\"color: #00af00; text-decoration-color: #00af00\">0</span> │\n",
              "├─────────────────────────────────┼────────────────────────┼───────────────┤\n",
              "│ flatten_1 (<span style=\"color: #0087ff; text-decoration-color: #0087ff\">Flatten</span>)             │ (<span style=\"color: #00d7ff; text-decoration-color: #00d7ff\">None</span>, <span style=\"color: #00af00; text-decoration-color: #00af00\">1600</span>)           │             <span style=\"color: #00af00; text-decoration-color: #00af00\">0</span> │\n",
              "├─────────────────────────────────┼────────────────────────┼───────────────┤\n",
              "│ dropout_1 (<span style=\"color: #0087ff; text-decoration-color: #0087ff\">Dropout</span>)             │ (<span style=\"color: #00d7ff; text-decoration-color: #00d7ff\">None</span>, <span style=\"color: #00af00; text-decoration-color: #00af00\">1600</span>)           │             <span style=\"color: #00af00; text-decoration-color: #00af00\">0</span> │\n",
              "├─────────────────────────────────┼────────────────────────┼───────────────┤\n",
              "│ dense (<span style=\"color: #0087ff; text-decoration-color: #0087ff\">Dense</span>)                   │ (<span style=\"color: #00d7ff; text-decoration-color: #00d7ff\">None</span>, <span style=\"color: #00af00; text-decoration-color: #00af00\">10</span>)             │        <span style=\"color: #00af00; text-decoration-color: #00af00\">16,010</span> │\n",
              "└─────────────────────────────────┴────────────────────────┴───────────────┘\n",
              "</pre>\n"
            ]
          },
          "metadata": {}
        },
        {
          "output_type": "display_data",
          "data": {
            "text/plain": [
              "\u001b[1m Total params: \u001b[0m\u001b[38;5;34m104,480\u001b[0m (408.13 KB)\n"
            ],
            "text/html": [
              "<pre style=\"white-space:pre;overflow-x:auto;line-height:normal;font-family:Menlo,'DejaVu Sans Mono',consolas,'Courier New',monospace\"><span style=\"font-weight: bold\"> Total params: </span><span style=\"color: #00af00; text-decoration-color: #00af00\">104,480</span> (408.13 KB)\n",
              "</pre>\n"
            ]
          },
          "metadata": {}
        },
        {
          "output_type": "display_data",
          "data": {
            "text/plain": [
              "\u001b[1m Trainable params: \u001b[0m\u001b[38;5;34m34,826\u001b[0m (136.04 KB)\n"
            ],
            "text/html": [
              "<pre style=\"white-space:pre;overflow-x:auto;line-height:normal;font-family:Menlo,'DejaVu Sans Mono',consolas,'Courier New',monospace\"><span style=\"font-weight: bold\"> Trainable params: </span><span style=\"color: #00af00; text-decoration-color: #00af00\">34,826</span> (136.04 KB)\n",
              "</pre>\n"
            ]
          },
          "metadata": {}
        },
        {
          "output_type": "display_data",
          "data": {
            "text/plain": [
              "\u001b[1m Non-trainable params: \u001b[0m\u001b[38;5;34m0\u001b[0m (0.00 B)\n"
            ],
            "text/html": [
              "<pre style=\"white-space:pre;overflow-x:auto;line-height:normal;font-family:Menlo,'DejaVu Sans Mono',consolas,'Courier New',monospace\"><span style=\"font-weight: bold\"> Non-trainable params: </span><span style=\"color: #00af00; text-decoration-color: #00af00\">0</span> (0.00 B)\n",
              "</pre>\n"
            ]
          },
          "metadata": {}
        },
        {
          "output_type": "display_data",
          "data": {
            "text/plain": [
              "\u001b[1m Optimizer params: \u001b[0m\u001b[38;5;34m69,654\u001b[0m (272.09 KB)\n"
            ],
            "text/html": [
              "<pre style=\"white-space:pre;overflow-x:auto;line-height:normal;font-family:Menlo,'DejaVu Sans Mono',consolas,'Courier New',monospace\"><span style=\"font-weight: bold\"> Optimizer params: </span><span style=\"color: #00af00; text-decoration-color: #00af00\">69,654</span> (272.09 KB)\n",
              "</pre>\n"
            ]
          },
          "metadata": {}
        }
      ]
    },
    {
      "cell_type": "code",
      "source": [],
      "metadata": {
        "id": "5tAQ2stnWF09"
      },
      "execution_count": null,
      "outputs": []
    }
  ]
}